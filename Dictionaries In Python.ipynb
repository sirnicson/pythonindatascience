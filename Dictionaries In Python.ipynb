{
  "metadata": {
    "language_info": {
      "codemirror_mode": {
        "name": "python",
        "version": 3
      },
      "file_extension": ".py",
      "mimetype": "text/x-python",
      "name": "python",
      "nbconvert_exporter": "python",
      "pygments_lexer": "ipython3",
      "version": "3.8"
    },
    "kernelspec": {
      "name": "python",
      "display_name": "Python (Pyodide)",
      "language": "python"
    }
  },
  "nbformat_minor": 4,
  "nbformat": 4,
  "cells": [
    {
      "cell_type": "markdown",
      "source": "## DICTIONARIES IN PYTHON",
      "metadata": {}
    },
    {
      "cell_type": "markdown",
      "source": "A dictionary consists of keys and values",
      "metadata": {}
    },
    {
      "cell_type": "markdown",
      "source": "Example:\n__Keys__ are key1, key2, key3, key4, key5.\n__Values__ are {1,2,[3,3,3],(4,4,4),5,(0,1):6}\n\n\nKeys can be strings [\"key1\"] or immutable objects such as tuble [(0, 1)]\n\nKeys are always the first part of the pair",
      "metadata": {}
    },
    {
      "cell_type": "code",
      "source": "#Create a dictionary sample\ndictionarykeys = {\"key1\": 1, \"key2\": \"2\", \"key3\": [3, 3, 3], \"key4\": (4, 4, 4), ('key5'): 5, (0, 1): 6}\ndictionarykeys",
      "metadata": {
        "trusted": true
      },
      "execution_count": 1,
      "outputs": [
        {
          "execution_count": 1,
          "output_type": "execute_result",
          "data": {
            "text/plain": "{'key1': 1,\n 'key2': '2',\n 'key3': [3, 3, 3],\n 'key4': (4, 4, 4),\n 'key5': 5,\n (0, 1): 6}"
          },
          "metadata": {}
        }
      ]
    },
    {
      "cell_type": "markdown",
      "source": "A colon : separates the key from the values, and each pair is separated by a comma with all pairs enclosed in a curly bracket {}.",
      "metadata": {}
    },
    {
      "cell_type": "markdown",
      "source": "__A Dictionary of Music Albums and Release Years__",
      "metadata": {}
    },
    {
      "cell_type": "code",
      "source": "#Create a dictionary\nalbum_dict = {\"Thriller\": \"1982\", \"Back in Black\": \"1980\", \\\n                    \"The Dark Side of the Moon\": \"1973\", \"The Bodyguard\": \"1992\", \\\n                    \"Bat Out of Hell\": \"1977\", \"Their Greatest Hits (1971-1975)\": \"1976\", \\\n                    \"Saturday Night Fever\": \"1977\", \"Rumours\": \"1977\"}\nalbum_dict",
      "metadata": {
        "trusted": true
      },
      "execution_count": 5,
      "outputs": [
        {
          "execution_count": 5,
          "output_type": "execute_result",
          "data": {
            "text/plain": "{'Thriller': '1982',\n 'Back in Black': '1980',\n 'The Dark Side of the Moon': '1973',\n 'The Bodyguard': '1992',\n 'Bat Out of Hell': '1977',\n 'Their Greatest Hits (1971-1975)': '1976',\n 'Saturday Night Fever': '1977',\n 'Rumours': '1977'}"
          },
          "metadata": {}
        }
      ]
    },
    {
      "cell_type": "markdown",
      "source": "__Retrieving Values__",
      "metadata": {}
    },
    {
      "cell_type": "code",
      "source": "#Usingkeys\nalbum_dict['Thriller']",
      "metadata": {
        "trusted": true
      },
      "execution_count": 7,
      "outputs": [
        {
          "execution_count": 7,
          "output_type": "execute_result",
          "data": {
            "text/plain": "'1982'"
          },
          "metadata": {}
        }
      ]
    },
    {
      "cell_type": "code",
      "source": "#Retrieve all values of he dictionary\nalbum_dict.keys()",
      "metadata": {
        "trusted": true
      },
      "execution_count": 8,
      "outputs": [
        {
          "execution_count": 8,
          "output_type": "execute_result",
          "data": {
            "text/plain": "dict_keys(['Thriller', 'Back in Black', 'The Dark Side of the Moon', 'The Bodyguard', 'Bat Out of Hell', 'Their Greatest Hits (1971-1975)', 'Saturday Night Fever', 'Rumours'])"
          },
          "metadata": {}
        }
      ]
    },
    {
      "cell_type": "markdown",
      "source": "__We can add an entry:__",
      "metadata": {}
    },
    {
      "cell_type": "code",
      "source": "# Add or append a value with key into dictionary\nalbum_dict['Graduation'] = '2007'\nalbum_dict",
      "metadata": {
        "trusted": true
      },
      "execution_count": 9,
      "outputs": [
        {
          "execution_count": 9,
          "output_type": "execute_result",
          "data": {
            "text/plain": "{'Thriller': '1982',\n 'Back in Black': '1980',\n 'The Dark Side of the Moon': '1973',\n 'The Bodyguard': '1992',\n 'Bat Out of Hell': '1977',\n 'Their Greatest Hits (1971-1975)': '1976',\n 'Saturday Night Fever': '1977',\n 'Rumours': '1977',\n 'Graduation': '2007'}"
          },
          "metadata": {}
        }
      ]
    },
    {
      "cell_type": "markdown",
      "source": "__We can delete an entry__",
      "metadata": {}
    },
    {
      "cell_type": "code",
      "source": "# Delete entries in the dictionary by key\ndel(album_dict['Graduation'])\nalbum_dict",
      "metadata": {
        "trusted": true
      },
      "execution_count": 10,
      "outputs": [
        {
          "execution_count": 10,
          "output_type": "execute_result",
          "data": {
            "text/plain": "{'Thriller': '1982',\n 'Back in Black': '1980',\n 'The Dark Side of the Moon': '1973',\n 'The Bodyguard': '1992',\n 'Bat Out of Hell': '1977',\n 'Their Greatest Hits (1971-1975)': '1976',\n 'Saturday Night Fever': '1977',\n 'Rumours': '1977'}"
          },
          "metadata": {}
        }
      ]
    },
    {
      "cell_type": "markdown",
      "source": "__We can verify if an element is in the dictionary__",
      "metadata": {}
    },
    {
      "cell_type": "code",
      "source": "#Verify the key is in the dictionary\n\n'The Bodyguard' in album_dict",
      "metadata": {
        "trusted": true
      },
      "execution_count": 11,
      "outputs": [
        {
          "execution_count": 11,
          "output_type": "execute_result",
          "data": {
            "text/plain": "True"
          },
          "metadata": {}
        }
      ]
    },
    {
      "cell_type": "markdown",
      "source": "_Quiz on Dictionaries_",
      "metadata": {}
    },
    {
      "cell_type": "code",
      "source": "# Question sample dictionary\n\nsoundtrack_dic = {\"The Bodyguard\":\"1992\", \"Saturday Night Fever\":\"1977\"}\nsoundtrack_dic ",
      "metadata": {
        "trusted": true
      },
      "execution_count": 12,
      "outputs": [
        {
          "execution_count": 12,
          "output_type": "execute_result",
          "data": {
            "text/plain": "{'The Bodyguard': '1992', 'Saturday Night Fever': '1977'}"
          },
          "metadata": {}
        }
      ]
    },
    {
      "cell_type": "code",
      "source": "#In the dictionary soundtrack_dic what are the keys ?\n\nsoundtrack_dic.keys()",
      "metadata": {
        "trusted": true
      },
      "execution_count": 13,
      "outputs": [
        {
          "execution_count": 13,
          "output_type": "execute_result",
          "data": {
            "text/plain": "dict_keys(['The Bodyguard', 'Saturday Night Fever'])"
          },
          "metadata": {}
        }
      ]
    },
    {
      "cell_type": "code",
      "source": "#In the dictionary soundtrack_dic what are the values ?\n\nsoundtrack_dic.values()",
      "metadata": {
        "trusted": true
      },
      "execution_count": 14,
      "outputs": [
        {
          "execution_count": 14,
          "output_type": "execute_result",
          "data": {
            "text/plain": "dict_values(['1992', '1977'])"
          },
          "metadata": {}
        }
      ]
    },
    {
      "cell_type": "markdown",
      "source": "__The Albums Back in Black, The Bodyguard and Thriller have the following music recording sales in millions 50, 50 and 65 respectively__\n\n\nCreate a dictionary album_sales_dict where the keys are the album name and the sales in millions are the values.",
      "metadata": {}
    },
    {
      "cell_type": "code",
      "source": "#Create Album Sales Dictionary\nalbum_sales_dict = {\"Back in Black\": \"50,000,000\", \"The Bodyguard\": \"50,000,000\",\n                    \"Thriller\": \"65,000,000\"}\nalbum_sales_dict",
      "metadata": {
        "trusted": true
      },
      "execution_count": 15,
      "outputs": [
        {
          "execution_count": 15,
          "output_type": "execute_result",
          "data": {
            "text/plain": "{'Back in Black': '50,000,000',\n 'The Bodyguard': '50,000,000',\n 'Thriller': '65,000,000'}"
          },
          "metadata": {}
        }
      ]
    },
    {
      "cell_type": "code",
      "source": "#Using keys find the total sales of Thriller:\n\nalbum_sales_dict['Thriller']",
      "metadata": {
        "trusted": true
      },
      "execution_count": 16,
      "outputs": [
        {
          "execution_count": 16,
          "output_type": "execute_result",
          "data": {
            "text/plain": "'65,000,000'"
          },
          "metadata": {}
        }
      ]
    },
    {
      "cell_type": "code",
      "source": "#Find the names of the albums from the dictionary\n\nalbum_sales_dict.keys()",
      "metadata": {
        "trusted": true
      },
      "execution_count": 17,
      "outputs": [
        {
          "execution_count": 17,
          "output_type": "execute_result",
          "data": {
            "text/plain": "dict_keys(['Back in Black', 'The Bodyguard', 'Thriller'])"
          },
          "metadata": {}
        }
      ]
    },
    {
      "cell_type": "code",
      "source": "#Find the values of the recording sales from the dictionary\n\nalbum_sales_dict.values()",
      "metadata": {
        "trusted": true
      },
      "execution_count": 18,
      "outputs": [
        {
          "execution_count": 18,
          "output_type": "execute_result",
          "data": {
            "text/plain": "dict_values(['50,000,000', '50,000,000', '65,000,000'])"
          },
          "metadata": {}
        }
      ]
    },
    {
      "cell_type": "markdown",
      "source": "__Scenario: Inventory Store__",
      "metadata": {}
    },
    {
      "cell_type": "markdown",
      "source": "The inventory store scenario project utilizes a dictionary-based approach to develop a robust system for managing and tracking inventory in a retail store.\nNote:- You will be working with two product details.",
      "metadata": {}
    },
    {
      "cell_type": "markdown",
      "source": "__Task-1 Create an empty dictionary__",
      "metadata": {}
    },
    {
      "cell_type": "code",
      "source": "#Create and empty dictionary\ninventory_dict={}\ninventory_dict",
      "metadata": {
        "trusted": true
      },
      "execution_count": 20,
      "outputs": [
        {
          "execution_count": 20,
          "output_type": "execute_result",
          "data": {
            "text/plain": "{}"
          },
          "metadata": {}
        }
      ]
    },
    {
      "cell_type": "markdown",
      "source": "__Task-2 Store the first product details in variable__",
      "metadata": {}
    },
    {
      "cell_type": "markdown",
      "source": "Product Name= Mobile phone\nProduct Quantity= 5\nProduct price= 20000\nProduct Release Year= 2020",
      "metadata": {}
    },
    {
      "cell_type": "code",
      "source": "#Store first variable by defining variables for the values\n\nP1 = \"Mobile Phone\"\nP1_quantity = 5\nP1_price = 20000\nP1_releaseYear= 2020",
      "metadata": {
        "trusted": true
      },
      "execution_count": 21,
      "outputs": []
    },
    {
      "cell_type": "markdown",
      "source": "__Task-3 Add the details in inventory__",
      "metadata": {}
    },
    {
      "cell_type": "code",
      "source": "inventory_dict[\"P1\"]= P1\ninventory_dict[\"P1_quantity\"]= P1_quantity\ninventory_dict[\"P1_price\"]= P1_price\ninventory_dict[\"P1_releaseYear\"]=P1_releaseYear",
      "metadata": {
        "trusted": true
      },
      "execution_count": 23,
      "outputs": []
    },
    {
      "cell_type": "markdown",
      "source": "__Task-4 Store the second product details in a variable.__",
      "metadata": {}
    },
    {
      "cell_type": "markdown",
      "source": "Product Name= \"Laptop\"\nProduct Quantity= 10\nProduct price = 50000\nProduct Release Year= 2023",
      "metadata": {}
    },
    {
      "cell_type": "code",
      "source": "#Store second variable by defining variables for the values\n\nP2 = \"Laptop\"\nP2_quantity = 10\nP2_price = 50000\nP2_releaseYear= 2023",
      "metadata": {
        "trusted": true
      },
      "execution_count": 24,
      "outputs": []
    },
    {
      "cell_type": "markdown",
      "source": "__Task-5 Add the details in inventory__",
      "metadata": {}
    },
    {
      "cell_type": "code",
      "source": "inventory_dict[\"P2\"]= P2\ninventory_dict[\"P2_quantity\"]= P2_quantity\ninventory_dict[\"P2_price\"]= P2_price\ninventory_dict[\"P2_releaseYear\"]=P2_releaseYear",
      "metadata": {
        "trusted": true
      },
      "execution_count": 25,
      "outputs": []
    },
    {
      "cell_type": "markdown",
      "source": "__Task-6 Display the Products present in the inventory__",
      "metadata": {}
    },
    {
      "cell_type": "code",
      "source": "inventory_dict",
      "metadata": {
        "trusted": true
      },
      "execution_count": 26,
      "outputs": [
        {
          "execution_count": 26,
          "output_type": "execute_result",
          "data": {
            "text/plain": "{'P1': 'Mobile Phone',\n 'P1_quantity': 5,\n 'P1_price': 20000,\n 'P1_releaseYear': 2020,\n 'P2': 'Laptop',\n 'P2_quantity': 10,\n 'P2_price': 50000,\n 'P2_releaseYear': 2023}"
          },
          "metadata": {}
        }
      ]
    },
    {
      "cell_type": "markdown",
      "source": "__Task-7 Check if ProductNo1_releaseYear and ProductNo2_releaseYear is in the inventory__",
      "metadata": {}
    },
    {
      "cell_type": "code",
      "source": "'P1_releaseYear' in inventory_dict",
      "metadata": {
        "trusted": true
      },
      "execution_count": 31,
      "outputs": [
        {
          "execution_count": 31,
          "output_type": "execute_result",
          "data": {
            "text/plain": "True"
          },
          "metadata": {}
        }
      ]
    },
    {
      "cell_type": "code",
      "source": "'P2_releaseYear' in inventory_dict",
      "metadata": {
        "trusted": true
      },
      "execution_count": 32,
      "outputs": [
        {
          "execution_count": 32,
          "output_type": "execute_result",
          "data": {
            "text/plain": "True"
          },
          "metadata": {}
        }
      ]
    },
    {
      "cell_type": "markdown",
      "source": "__Task-8 Delete release year of both the products from the inventory__",
      "metadata": {}
    },
    {
      "cell_type": "code",
      "source": "del(inventory_dict['P1_releaseYear'])",
      "metadata": {
        "trusted": true
      },
      "execution_count": 34,
      "outputs": []
    },
    {
      "cell_type": "code",
      "source": "del(inventory_dict['P2_releaseYear'])",
      "metadata": {
        "trusted": true
      },
      "execution_count": 35,
      "outputs": []
    },
    {
      "cell_type": "markdown",
      "source": "__Task-9 Check if ProductNo1_releaseYear and ProductNo2_releaseYear is in the inventory__",
      "metadata": {}
    },
    {
      "cell_type": "code",
      "source": "'P1_releaseYear' in inventory_dict",
      "metadata": {
        "trusted": true
      },
      "execution_count": 36,
      "outputs": [
        {
          "execution_count": 36,
          "output_type": "execute_result",
          "data": {
            "text/plain": "False"
          },
          "metadata": {}
        }
      ]
    },
    {
      "cell_type": "code",
      "source": "'P2_releaseYear' in inventory_dict",
      "metadata": {
        "trusted": true
      },
      "execution_count": 37,
      "outputs": [
        {
          "execution_count": 37,
          "output_type": "execute_result",
          "data": {
            "text/plain": "False"
          },
          "metadata": {}
        }
      ]
    },
    {
      "cell_type": "code",
      "source": "",
      "metadata": {},
      "execution_count": null,
      "outputs": []
    },
    {
      "cell_type": "code",
      "source": "",
      "metadata": {},
      "execution_count": null,
      "outputs": []
    },
    {
      "cell_type": "code",
      "source": "",
      "metadata": {},
      "execution_count": null,
      "outputs": []
    },
    {
      "cell_type": "code",
      "source": "",
      "metadata": {},
      "execution_count": null,
      "outputs": []
    },
    {
      "cell_type": "code",
      "source": "",
      "metadata": {},
      "execution_count": null,
      "outputs": []
    },
    {
      "cell_type": "code",
      "source": "",
      "metadata": {},
      "execution_count": null,
      "outputs": []
    },
    {
      "cell_type": "code",
      "source": "",
      "metadata": {},
      "execution_count": null,
      "outputs": []
    },
    {
      "cell_type": "code",
      "source": "",
      "metadata": {},
      "execution_count": null,
      "outputs": []
    },
    {
      "cell_type": "code",
      "source": "",
      "metadata": {},
      "execution_count": null,
      "outputs": []
    },
    {
      "cell_type": "code",
      "source": "",
      "metadata": {},
      "execution_count": null,
      "outputs": []
    },
    {
      "cell_type": "code",
      "source": "",
      "metadata": {},
      "execution_count": null,
      "outputs": []
    },
    {
      "cell_type": "code",
      "source": "",
      "metadata": {},
      "execution_count": null,
      "outputs": []
    },
    {
      "cell_type": "code",
      "source": "",
      "metadata": {},
      "execution_count": null,
      "outputs": []
    },
    {
      "cell_type": "code",
      "source": "",
      "metadata": {},
      "execution_count": null,
      "outputs": []
    }
  ]
}