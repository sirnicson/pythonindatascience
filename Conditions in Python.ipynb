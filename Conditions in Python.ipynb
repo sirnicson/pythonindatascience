{
  "metadata": {
    "language_info": {
      "codemirror_mode": {
        "name": "python",
        "version": 3
      },
      "file_extension": ".py",
      "mimetype": "text/x-python",
      "name": "python",
      "nbconvert_exporter": "python",
      "pygments_lexer": "ipython3",
      "version": "3.8"
    },
    "kernelspec": {
      "name": "python",
      "display_name": "Python (Pyodide)",
      "language": "python"
    }
  },
  "nbformat_minor": 4,
  "nbformat": 4,
  "cells": [
    {
      "cell_type": "markdown",
      "source": "__Conditions in Python__",
      "metadata": {}
    },
    {
      "cell_type": "markdown",
      "source": "## COMPARISONS",
      "metadata": {}
    },
    {
      "cell_type": "markdown",
      "source": "Comparison operations compare some value and __based on a condition__, produce a Boolean. When comparing two values you can use these operatorss:\n\nequal: == \n\nnot equal: !=  \n\ngreater than: >  \n\nless than: < \n\ngreater than or equal to: >= \n\nless than or equal to: <=",
      "metadata": {}
    },
    {
      "cell_type": "code",
      "source": "",
      "metadata": {},
      "execution_count": null,
      "outputs": []
    },
    {
      "cell_type": "markdown",
      "source": "Equal",
      "metadata": {}
    },
    {
      "cell_type": "markdown",
      "source": "Lets say __a = 5__. Use the equality operator denoted with two equal __==__ signs to determine if two values are equal. \n\nThe case below compares the variable a with 6.",
      "metadata": {}
    },
    {
      "cell_type": "code",
      "source": "# Condition Equal - True or False\n\na = 5\na == 6",
      "metadata": {
        "trusted": true
      },
      "execution_count": 1,
      "outputs": [
        {
          "execution_count": 1,
          "output_type": "execute_result",
          "data": {
            "text/plain": "False"
          },
          "metadata": {}
        }
      ]
    },
    {
      "cell_type": "markdown",
      "source": "Not Equal",
      "metadata": {}
    },
    {
      "cell_type": "markdown",
      "source": "The inequality test uses an exclamation mark preceding the equal sign, if two operands are not equal then the condition becomes True. \n\nFor example, the following condition will produce True as long as the value of i is not equal to 6:",
      "metadata": {}
    },
    {
      "cell_type": "code",
      "source": "# Inequality Sign\n\ni = 2\ni != 6",
      "metadata": {
        "trusted": true
      },
      "execution_count": 3,
      "outputs": [
        {
          "execution_count": 3,
          "output_type": "execute_result",
          "data": {
            "text/plain": "True"
          },
          "metadata": {}
        }
      ]
    },
    {
      "cell_type": "code",
      "source": "# Inequality Sign\n\ni = 6\ni != 6",
      "metadata": {
        "trusted": true
      },
      "execution_count": 4,
      "outputs": [
        {
          "execution_count": 4,
          "output_type": "execute_result",
          "data": {
            "text/plain": "False"
          },
          "metadata": {}
        }
      ]
    },
    {
      "cell_type": "markdown",
      "source": "Here the boolean returns False because i is equal to 6, thus in cannot be not unequal.",
      "metadata": {}
    },
    {
      "cell_type": "markdown",
      "source": "Greater or Lesser Than",
      "metadata": {}
    },
    {
      "cell_type": "markdown",
      "source": "Consider the following equality comparison operator: __i > 5__. \n\nIf the value of the left operand >, in this case the variable i, is greater than the value of the right operand, in this case 5, then the statement is True. \n\nOtherwise, the statement is False. If i is equal to 6, because 6 is larger than 5, the output is True.",
      "metadata": {}
    },
    {
      "cell_type": "code",
      "source": "# Greater than Sign\n\ni = 6\ni > 5",
      "metadata": {
        "trusted": true
      },
      "execution_count": 5,
      "outputs": [
        {
          "execution_count": 5,
          "output_type": "execute_result",
          "data": {
            "text/plain": "True"
          },
          "metadata": {}
        }
      ]
    },
    {
      "cell_type": "code",
      "source": "# Greater than Sign\n\ni = 2\ni > 5",
      "metadata": {
        "trusted": true
      },
      "execution_count": 6,
      "outputs": [
        {
          "execution_count": 6,
          "output_type": "execute_result",
          "data": {
            "text/plain": "False"
          },
          "metadata": {}
        }
      ]
    },
    {
      "cell_type": "markdown",
      "source": "The statement is False as 2 is not greater than 5:",
      "metadata": {}
    },
    {
      "cell_type": "markdown",
      "source": "__Comparisons on Strings__",
      "metadata": {}
    },
    {
      "cell_type": "markdown",
      "source": "We can apply the same methods on strings. \n\nFor example, we can use an equality operator on two different strings. As the strings are not equal, we get a False",
      "metadata": {}
    },
    {
      "cell_type": "code",
      "source": "# Use Equality sign to compare the strings\n\n\"ACDC\" == \"Michael Jackson\"",
      "metadata": {
        "trusted": true
      },
      "execution_count": 8,
      "outputs": [
        {
          "execution_count": 8,
          "output_type": "execute_result",
          "data": {
            "text/plain": "False"
          },
          "metadata": {}
        }
      ]
    },
    {
      "cell_type": "code",
      "source": "# Use Inequality sign to compare the strings\n\n\"ACDC\" != \"Michael Jackson\"",
      "metadata": {
        "trusted": true
      },
      "execution_count": 9,
      "outputs": [
        {
          "execution_count": 9,
          "output_type": "execute_result",
          "data": {
            "text/plain": "True"
          },
          "metadata": {}
        }
      ]
    },
    {
      "cell_type": "markdown",
      "source": "Note: Comparison between the letters in Python is case-sensitive.",
      "metadata": {}
    },
    {
      "cell_type": "code",
      "source": "",
      "metadata": {},
      "execution_count": null,
      "outputs": []
    },
    {
      "cell_type": "markdown",
      "source": "## BRANCHING",
      "metadata": {}
    },
    {
      "cell_type": "markdown",
      "source": "Branching allows us to run different statements for different inputs. \n\nIt is helpful to think of an if statement as a locked room, if the statement is True we can enter the room and your program will run some predefined tasks, but if the statement is False the program will ignore the task.",
      "metadata": {}
    },
    {
      "cell_type": "markdown",
      "source": "__If condition statement__",
      "metadata": {}
    },
    {
      "cell_type": "markdown",
      "source": "The syntax is as simple as  __if (condition statement) :__, which contains a word if, any condition statement, and a colon at the end. \n\nStart your tasks which need to be executed under this condition in a new line with an indent. \n\nThe lines of code after the colon and with an indent will only be executed when the if statement is True. The tasks will end when the line of code does not contain the indent.\n\n\nFor example, in the case below, the code __print(“you can enter”)__ is executed only if the variable age is greater than 18. However, the execution of __print(“move on”)__ will not be influenced by the if statement.",
      "metadata": {}
    },
    {
      "cell_type": "code",
      "source": "# If statement expression\nage = 19\n\n#The If statement\nif age > 18:\n    print(\"you can enter red room\" )\n\n#This is the statement after the if statement\n    print(\"move on\")\n#It will run regardless if the condition is true or false",
      "metadata": {
        "trusted": true
      },
      "execution_count": 13,
      "outputs": [
        {
          "name": "stdout",
          "text": "you can enter red room\nmove on\n",
          "output_type": "stream"
        }
      ]
    },
    {
      "cell_type": "markdown",
      "source": "__The else statement__\n\nThis runs a block of code if none of the conditions are True before this else statement.\n\nIf the user is 17 they cannot enter the red room, but they can go to the blue room. \n\nThe syntax of the else statement is similar as the syntax of the if statement, as __else :__. \n\nNotice that, __there is no condition statement for else__. Try changing the values of age to see what happens:",
      "metadata": {}
    },
    {
      "cell_type": "code",
      "source": "# Else statement\n\nage = 17\n\n#The If statement\nif age > 18:\n    print(\"you can enter the red room\" )\n    \n#The else statement  \nelse:\n    print(\"go to the blue room\" )\n    \nprint(\"move on\")",
      "metadata": {
        "trusted": true
      },
      "execution_count": 14,
      "outputs": [
        {
          "name": "stdout",
          "text": "go to the blue room\nmove on\n",
          "output_type": "stream"
        }
      ]
    },
    {
      "cell_type": "markdown",
      "source": "__The elif statement, short for else if__ \n\nAllows us to check additional conditions if the condition statements before it are False.\n\nIf the condition for the elif statement is True, the alternate expressions will be run. \n\nConsider the example, where if the individual is 18 they will go to the blue room instead of entering the red room. \n\nA person that is 18 years of age enters the area, and as they are not older than 18 they can not enter the red room, but since they are 18 years of age they are can be considered matured, thus a branch statement can be added to account for this age agroup to enter the red room.\n\nThe syntax of the elif statement is similar in that we merely change the if in the if statement to elif.",
      "metadata": {}
    },
    {
      "cell_type": "code",
      "source": "# Elif statment\n\nage = 18\n\n#The If statement\nif age > 18:\n    print(\"you can enter the red room\")\n    \n#The else if statement     \nelif age == 18:\n    print(\"you can enter the red room\")\n    \n#The else statement  \nelse:\n    print(\"go to the blue room\")\n    \nprint(\"move on\")",
      "metadata": {
        "trusted": true
      },
      "execution_count": 45,
      "outputs": [
        {
          "name": "stdout",
          "text": "you can enter the red room\nmove on\n",
          "output_type": "stream"
        }
      ]
    },
    {
      "cell_type": "markdown",
      "source": "Practice",
      "metadata": {
        "tags": []
      }
    },
    {
      "cell_type": "code",
      "source": "#Look at the following code\n\nalbum_year = 1983\n\n#The if statement \nif album_year > 1980:\n    print(\"A contemporary album\")\n    \n#The else statement  \nelse:\n    print(\"An antique album\")",
      "metadata": {
        "trusted": true
      },
      "execution_count": 24,
      "outputs": [
        {
          "name": "stdout",
          "text": "A contemporary album\n",
          "output_type": "stream"
        }
      ]
    },
    {
      "cell_type": "code",
      "source": "#Look at the following code\n\nalbum_year = 1707\n\n#The if statement \nif album_year > 1980:\n    print(\"A contemporary album\")\n    \n#The else statement  \nelse:\n    print(\"An antique album\")",
      "metadata": {
        "trusted": true
      },
      "execution_count": 26,
      "outputs": [
        {
          "name": "stdout",
          "text": "An antique album\n",
          "output_type": "stream"
        }
      ]
    },
    {
      "cell_type": "code",
      "source": "#Look at the following code\n\nalbum_year = 2023\n\n#The if statement \nif album_year > 1980:\n    print(\"A contemporary album\")\n    \n#The else statement  \nelse:\n    print(\"An antique album\")",
      "metadata": {
        "trusted": true
      },
      "execution_count": 27,
      "outputs": [
        {
          "name": "stdout",
          "text": "A contemporary album\n",
          "output_type": "stream"
        }
      ]
    },
    {
      "cell_type": "markdown",
      "source": "",
      "metadata": {}
    },
    {
      "cell_type": "markdown",
      "source": "__Logical operators__\n\nSometimes you want to check more than one condition at once. For example, you might want to check if one condition and another condition are both True. \n\nLogical operators allow you to combine or modify conditions.",
      "metadata": {}
    },
    {
      "cell_type": "markdown",
      "source": "- __and__ : This is only True when both conditions are True.\n- __or__ : This is True if one condition, or both are True.\n- __not__ : This outputs the opposite truth value.",
      "metadata": {
        "tags": []
      }
    },
    {
      "cell_type": "markdown",
      "source": "__and Statements__\n",
      "metadata": {}
    },
    {
      "cell_type": "code",
      "source": "#and Conditioned statement\n\nalbum_year = 1980\n\nif(album_year > 1979) and (album_year < 1990):\n    print (\"Album year was in between 1980 and 1989\")\n    \nprint(\"\")",
      "metadata": {
        "trusted": true
      },
      "execution_count": 31,
      "outputs": [
        {
          "name": "stdout",
          "text": "Album year was in between 1980 and 1989\n\n",
          "output_type": "stream"
        }
      ]
    },
    {
      "cell_type": "code",
      "source": "#and Conditioned statement\n\nalbum_year = 1965\n\nif(album_year > 1979) and (album_year < 1990):\n    print (\"Album year was in between 1980 and 1989\")\n    \nprint(\"\")",
      "metadata": {
        "trusted": true
      },
      "execution_count": 33,
      "outputs": [
        {
          "name": "stdout",
          "text": "",
          "output_type": "stream"
        },
        {
          "name": "stdout",
          "text": "\n",
          "output_type": "stream"
        }
      ]
    },
    {
      "cell_type": "code",
      "source": "#and Conditioned statement\n\nalbum_year = 2000\n\nif(album_year > 1979) and (album_year < 1990):\n    print (\"Album year was in between 1980 and 1989\")\n    \nprint(\"\")",
      "metadata": {
        "trusted": true
      },
      "execution_count": 34,
      "outputs": [
        {
          "name": "stdout",
          "text": "",
          "output_type": "stream"
        },
        {
          "name": "stdout",
          "text": "\n",
          "output_type": "stream"
        }
      ]
    },
    {
      "cell_type": "markdown",
      "source": "__or Statements__",
      "metadata": {}
    },
    {
      "cell_type": "code",
      "source": "#or Conditioned statement\n\nalbum_year = 1990\n\nif(album_year < 1980) or (album_year > 1989):\n    print (\"Album was not made in the 1980's\")\nelse:\n    print(\"The Album was made in the 1980's\")",
      "metadata": {
        "trusted": true
      },
      "execution_count": 37,
      "outputs": [
        {
          "name": "stdout",
          "text": "Album was not made in the 1980's\n",
          "output_type": "stream"
        }
      ]
    },
    {
      "cell_type": "code",
      "source": "#or Conditioned statement\n\nalbum_year = 1979\n\nif(album_year < 1980) or (album_year > 1989):\n    print (\"Album was not made in the 1980's\")\nelse:\n    print(\"The Album was made in the 1980's\")",
      "metadata": {
        "trusted": true
      },
      "execution_count": 38,
      "outputs": [
        {
          "name": "stdout",
          "text": "Album was not made in the 1980's\n",
          "output_type": "stream"
        }
      ]
    },
    {
      "cell_type": "code",
      "source": "#or Conditioned statement\n\nalbum_year = 1982\n\nif(album_year < 1980) or (album_year > 1989):\n    print (\"Album was not made in the 1980's\")\nelse:\n    print(\"The Album was made in the 1980's\")",
      "metadata": {
        "trusted": true
      },
      "execution_count": 39,
      "outputs": [
        {
          "name": "stdout",
          "text": "The Album was made in the 1980's\n",
          "output_type": "stream"
        }
      ]
    },
    {
      "cell_type": "markdown",
      "source": "__not Statement__\n\nThe not statement checks if the statement is false:",
      "metadata": {}
    },
    {
      "cell_type": "code",
      "source": "# Condition statement example\n\nalbum_year = 1983\n\nif not (album_year == 1984):\n    print (\"Album year is not 1984\")",
      "metadata": {
        "trusted": true
      },
      "execution_count": 44,
      "outputs": [
        {
          "name": "stdout",
          "text": "Album year is not 1984\n",
          "output_type": "stream"
        }
      ]
    },
    {
      "cell_type": "code",
      "source": "",
      "metadata": {},
      "execution_count": null,
      "outputs": []
    },
    {
      "cell_type": "markdown",
      "source": "__Quiz on Conditions__",
      "metadata": {
        "tags": []
      }
    },
    {
      "cell_type": "markdown",
      "source": "Write an if statement to determine if an album had a rating greater than 8. \n\nTest it using the rating for the album “Back in Black” that had a rating of 8.5. \n\nIf the statement is true print \"Amazing!\"",
      "metadata": {}
    },
    {
      "cell_type": "code",
      "source": "#Back in Black album rating\n\nalbum_rating = 8.5\n\n#The if statement \nif album_rating > 8:\n    print(\"Amazing\")\n    \n#The else statement  \nelse:\n    print(\"Average\")",
      "metadata": {
        "trusted": true
      },
      "execution_count": 42,
      "outputs": [
        {
          "name": "stdout",
          "text": "Amazing\n",
          "output_type": "stream"
        }
      ]
    },
    {
      "cell_type": "markdown",
      "source": "Write an else-if statement that performs the following. \n\nIf the rating is larger then eight print “Amazing”. \n\nIf the rating is less than or equal to 8 print “Average”.",
      "metadata": {}
    },
    {
      "cell_type": "code",
      "source": "#Thriller album rating\n\nalbum_rating = 8\n\n#The if statement \nif album_rating > 8:\n    print(\"Amazing\")\n    \n#The else if statement     \nelif album_rating == 8:\n    print(\"Average\")\n    \n#The else statement  \nelse:\n    print(\"Average\")",
      "metadata": {
        "trusted": true
      },
      "execution_count": 50,
      "outputs": [
        {
          "name": "stdout",
          "text": "Average\n",
          "output_type": "stream"
        }
      ]
    },
    {
      "cell_type": "markdown",
      "source": "Write an if statement to determine if an album came out before 1980 or in the years: 1991 or 1993. \n\nIf the condition is true print out the year the album came out.",
      "metadata": {}
    },
    {
      "cell_type": "code",
      "source": "#Operationalize Thriller album came out in 1991\n\nalbum_year = 1991\n\n\nif(album_year < 1980) or (album_year == 1991) or (album_year == 1993):\n    print (\"This album came out in year\", album_year)\nelse:\n    print (\"\")\n",
      "metadata": {
        "trusted": true
      },
      "execution_count": 55,
      "outputs": [
        {
          "name": "stdout",
          "text": "This album came out in year 1991\n",
          "output_type": "stream"
        }
      ]
    },
    {
      "cell_type": "code",
      "source": "#Operationalize Thriller album came out in 1907\n\nalbum_year = 1907\n\n\nif(album_year < 1980) or (album_year == 1991) or (album_year == 1993):\n    print (\"This album came out in year\", album_year)\nelse:\n    print (\"\")",
      "metadata": {
        "trusted": true
      },
      "execution_count": 56,
      "outputs": [
        {
          "name": "stdout",
          "text": "This album came out in year 1907\n",
          "output_type": "stream"
        }
      ]
    },
    {
      "cell_type": "code",
      "source": "#Operationalize Thriller album came out in 2001\n\nalbum_year = 2001\n\n\nif(album_year < 1980) or (album_year == 1991) or (album_year == 1993):\n    print (\"This album came out in year\", album_year)\nelse:\n    print (\"\")",
      "metadata": {
        "trusted": true
      },
      "execution_count": 57,
      "outputs": [
        {
          "name": "stdout",
          "text": "",
          "output_type": "stream"
        },
        {
          "name": "stdout",
          "text": "\n",
          "output_type": "stream"
        }
      ]
    },
    {
      "cell_type": "code",
      "source": "",
      "metadata": {},
      "execution_count": null,
      "outputs": []
    }
  ]
}