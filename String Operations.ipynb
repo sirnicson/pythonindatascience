{
  "metadata": {
    "language_info": {
      "codemirror_mode": {
        "name": "python",
        "version": 3
      },
      "file_extension": ".py",
      "mimetype": "text/x-python",
      "name": "python",
      "nbconvert_exporter": "python",
      "pygments_lexer": "ipython3",
      "version": "3.8"
    },
    "kernelspec": {
      "name": "python",
      "display_name": "Python (Pyodide)",
      "language": "python"
    }
  },
  "nbformat_minor": 4,
  "nbformat": 4,
  "cells": [
    {
      "cell_type": "markdown",
      "source": "# STRING OPERATIONS",
      "metadata": {}
    },
    {
      "cell_type": "markdown",
      "source": "Strings can be written in single or dounle quotes",
      "metadata": {}
    },
    {
      "cell_type": "code",
      "source": "#Single quotes\nprint('Hello world!')",
      "metadata": {
        "trusted": true
      },
      "execution_count": 2,
      "outputs": [
        {
          "name": "stdout",
          "text": "Hello world!\n",
          "output_type": "stream"
        }
      ]
    },
    {
      "cell_type": "code",
      "source": "#Double quotes\nprint(\"Hello world!\")",
      "metadata": {
        "trusted": true
      },
      "execution_count": 4,
      "outputs": [
        {
          "name": "stdout",
          "text": "Hello world!\n",
          "output_type": "stream"
        }
      ]
    },
    {
      "cell_type": "markdown",
      "source": "Strings can come in combination of spaces and numbers",
      "metadata": {}
    },
    {
      "cell_type": "code",
      "source": "#String with spaces and numbers\nprint('1 2 3 4 5')",
      "metadata": {
        "trusted": true
      },
      "execution_count": 5,
      "outputs": [
        {
          "name": "stdout",
          "text": "1 2 3 4 5\n",
          "output_type": "stream"
        }
      ]
    },
    {
      "cell_type": "markdown",
      "source": "Strings can come in combination of special characters",
      "metadata": {}
    },
    {
      "cell_type": "code",
      "source": "#String with special characters\nprint('+%^&%=^+#')",
      "metadata": {
        "trusted": true
      },
      "execution_count": 6,
      "outputs": [
        {
          "name": "stdout",
          "text": "+%^&%=^+#\n",
          "output_type": "stream"
        }
      ]
    },
    {
      "cell_type": "markdown",
      "source": "Strings can be assigned to a variable",
      "metadata": {}
    },
    {
      "cell_type": "code",
      "source": "#Assigning string to a variable\nstring1 = 'Hello world'\nstring1",
      "metadata": {
        "trusted": true
      },
      "execution_count": 14,
      "outputs": [
        {
          "execution_count": 14,
          "output_type": "execute_result",
          "data": {
            "text/plain": "'Hello world'"
          },
          "metadata": {}
        }
      ]
    },
    {
      "cell_type": "markdown",
      "source": "Checking variable",
      "metadata": {}
    },
    {
      "cell_type": "code",
      "source": "string1",
      "metadata": {
        "trusted": true
      },
      "execution_count": 15,
      "outputs": [
        {
          "execution_count": 15,
          "output_type": "execute_result",
          "data": {
            "text/plain": "'Hello world'"
          },
          "metadata": {}
        }
      ]
    },
    {
      "cell_type": "markdown",
      "source": "__Indexing__",
      "metadata": {}
    },
    {
      "cell_type": "markdown",
      "source": "Indexes tie characters in a string to a sequence of numbers which could be positive from 0 to n....or negative from -n to -1",
      "metadata": {}
    },
    {
      "cell_type": "markdown",
      "source": "HELLO WORLD = 01234 (5) 6789(10)\n\nWhere H = 0....... Space = 5 ...... D = 10",
      "metadata": {}
    },
    {
      "cell_type": "code",
      "source": "#Print the first element in the string\nprint(string1[0])",
      "metadata": {
        "trusted": true
      },
      "execution_count": 18,
      "outputs": [
        {
          "name": "stdout",
          "text": "H\n",
          "output_type": "stream"
        }
      ]
    },
    {
      "cell_type": "code",
      "source": "# Print the element on index 6 in the string or the sixth element\nprint(string1[6])",
      "metadata": {
        "trusted": true
      },
      "execution_count": 19,
      "outputs": [
        {
          "name": "stdout",
          "text": "w\n",
          "output_type": "stream"
        }
      ]
    },
    {
      "cell_type": "code",
      "source": "# Print the element on index 10 in the string or the tenth element\nprint(string1[10])",
      "metadata": {
        "trusted": true
      },
      "execution_count": 20,
      "outputs": [
        {
          "name": "stdout",
          "text": "d\n",
          "output_type": "stream"
        }
      ]
    },
    {
      "cell_type": "markdown",
      "source": "__Negative Indexing__",
      "metadata": {}
    },
    {
      "cell_type": "markdown",
      "source": "HELLO WORLD = -11-10-9-8-7 (-6) -5-4-3-2-1\n\nWhere H = -11....... Space = -6 ...... D = -1",
      "metadata": {}
    },
    {
      "cell_type": "code",
      "source": "# Print the last element in the string\n\nprint(string1[-1])",
      "metadata": {
        "trusted": true
      },
      "execution_count": 22,
      "outputs": [
        {
          "name": "stdout",
          "text": "d\n",
          "output_type": "stream"
        }
      ]
    },
    {
      "cell_type": "code",
      "source": "# Print the first element in the string\n\nprint(string1[-11])",
      "metadata": {
        "trusted": true
      },
      "execution_count": 23,
      "outputs": [
        {
          "name": "stdout",
          "text": "H\n",
          "output_type": "stream"
        }
      ]
    },
    {
      "cell_type": "markdown",
      "source": "Finding the length of the string using __len__",
      "metadata": {}
    },
    {
      "cell_type": "code",
      "source": "# Find the length of string\n\nlen(\"Hello World\")",
      "metadata": {
        "trusted": true
      },
      "execution_count": 24,
      "outputs": [
        {
          "execution_count": 24,
          "output_type": "execute_result",
          "data": {
            "text/plain": "11"
          },
          "metadata": {}
        }
      ]
    },
    {
      "cell_type": "code",
      "source": "",
      "metadata": {},
      "execution_count": null,
      "outputs": []
    },
    {
      "cell_type": "markdown",
      "source": "__SLICING__",
      "metadata": {}
    },
    {
      "cell_type": "markdown",
      "source": "We can obtain multiple characters from a string using slicing.",
      "metadata": {}
    },
    {
      "cell_type": "markdown",
      "source": "NICHOLAS WILSON = 0,1,2,3,4,5,6,7 (8) 9,10,11,12,13,14\n\nWhere N = 0....... Space = 8 ...... N = 14",
      "metadata": {}
    },
    {
      "cell_type": "code",
      "source": "#Assigning string to a variable\nstring2 = 'Nicholas Wilson'\nstring2",
      "metadata": {
        "trusted": true
      },
      "execution_count": 25,
      "outputs": [
        {
          "execution_count": 25,
          "output_type": "execute_result",
          "data": {
            "text/plain": "'Nicholas Wilson'"
          },
          "metadata": {}
        }
      ]
    },
    {
      "cell_type": "markdown",
      "source": "In Slicing, the indexes included in the print stops a sequence after. So a slice of only 0 to 3 would be written as [0:4]",
      "metadata": {}
    },
    {
      "cell_type": "code",
      "source": "#Take the slice of string2 on variable name from index 0 to 3\n\nstring2[0:4]",
      "metadata": {
        "trusted": true
      },
      "execution_count": 26,
      "outputs": [
        {
          "execution_count": 26,
          "output_type": "execute_result",
          "data": {
            "text/plain": "'Nich'"
          },
          "metadata": {}
        }
      ]
    },
    {
      "cell_type": "code",
      "source": "#Take the slice of string2 on variable name from index 0 to 5\n\nstring2[0:6]",
      "metadata": {
        "trusted": true
      },
      "execution_count": 27,
      "outputs": [
        {
          "execution_count": 27,
          "output_type": "execute_result",
          "data": {
            "text/plain": "'Nichol'"
          },
          "metadata": {}
        }
      ]
    },
    {
      "cell_type": "code",
      "source": "#Take the slice of string2 on variable name from index 9 to 11\n\nstring2[9:12]",
      "metadata": {
        "trusted": true
      },
      "execution_count": 28,
      "outputs": [
        {
          "execution_count": 28,
          "output_type": "execute_result",
          "data": {
            "text/plain": "'Wil'"
          },
          "metadata": {}
        }
      ]
    },
    {
      "cell_type": "code",
      "source": "#Take the slice of string2 on variable name from index 9 to 14\n\nstring2[9:15]",
      "metadata": {
        "trusted": true
      },
      "execution_count": 31,
      "outputs": [
        {
          "execution_count": 31,
          "output_type": "execute_result",
          "data": {
            "text/plain": "'Wilson'"
          },
          "metadata": {}
        }
      ]
    },
    {
      "cell_type": "markdown",
      "source": "__STRIDES__",
      "metadata": {}
    },
    {
      "cell_type": "markdown",
      "source": "Striding is done by selecting every second variable",
      "metadata": {}
    },
    {
      "cell_type": "code",
      "source": "#Get every second element on string2. The elments on index 1, 3, 5 ...\n\nstring2[::2]",
      "metadata": {
        "trusted": true
      },
      "execution_count": 32,
      "outputs": [
        {
          "execution_count": 32,
          "output_type": "execute_result",
          "data": {
            "text/plain": "'Ncoa isn'"
          },
          "metadata": {}
        }
      ]
    },
    {
      "cell_type": "markdown",
      "source": "__Using SLICE and STRIDE__",
      "metadata": {}
    },
    {
      "cell_type": "code",
      "source": "#Get every second element in the range from index 0 to index 4\nstring2[0:5:2]",
      "metadata": {
        "trusted": true
      },
      "execution_count": 33,
      "outputs": [
        {
          "execution_count": 33,
          "output_type": "execute_result",
          "data": {
            "text/plain": "'Nco'"
          },
          "metadata": {}
        }
      ]
    },
    {
      "cell_type": "code",
      "source": "#Get every second element in the range from index 0 to index 14\nstring2[0:10:2]",
      "metadata": {
        "trusted": true
      },
      "execution_count": 35,
      "outputs": [
        {
          "execution_count": 35,
          "output_type": "execute_result",
          "data": {
            "text/plain": "'Ncoa '"
          },
          "metadata": {}
        }
      ]
    },
    {
      "cell_type": "markdown",
      "source": "__Adding Strings__",
      "metadata": {}
    },
    {
      "cell_type": "markdown",
      "source": "Strings can be combined to form new strings without changing the value of the original string. ",
      "metadata": {}
    },
    {
      "cell_type": "code",
      "source": "#Concatenate/Combine two strings\n\nstring3 = string2 + \" is the best\"\nstring3",
      "metadata": {
        "trusted": true
      },
      "execution_count": 37,
      "outputs": [
        {
          "execution_count": 37,
          "output_type": "execute_result",
          "data": {
            "text/plain": "'Nicholas Wilson is the best'"
          },
          "metadata": {}
        }
      ]
    },
    {
      "cell_type": "markdown",
      "source": "Note space was added in the additional string \" is the best\" to ensure the new string comes out correctly",
      "metadata": {}
    },
    {
      "cell_type": "code",
      "source": "#Concatenate/Combine multiple strings (additional strings and named strings)\n\nstring4 = string1 + \". I want to tell you something. \" + string3 + ' in the world!'\nstring4",
      "metadata": {
        "trusted": true
      },
      "execution_count": 41,
      "outputs": [
        {
          "execution_count": 41,
          "output_type": "execute_result",
          "data": {
            "text/plain": "'Hello world. I want to tell you something. Nicholas Wilson is the best in the world!'"
          },
          "metadata": {}
        }
      ]
    },
    {
      "cell_type": "markdown",
      "source": "__Duplicate Strings__",
      "metadata": {}
    },
    {
      "cell_type": "code",
      "source": "# Print the string4 2 times\n\n2 * string4",
      "metadata": {
        "trusted": true
      },
      "execution_count": 47,
      "outputs": [
        {
          "execution_count": 47,
          "output_type": "execute_result",
          "data": {
            "text/plain": "'Hello world. I want to tell you something. Nicholas Wilson is the best in the world!Hello world. I want to tell you something. Nicholas Wilson is the best in the world!'"
          },
          "metadata": {}
        }
      ]
    },
    {
      "cell_type": "code",
      "source": "# Print 'Starbucks sucks' 3 times\n\n3 * ' Starbucks sucks'",
      "metadata": {
        "trusted": true
      },
      "execution_count": 45,
      "outputs": [
        {
          "execution_count": 45,
          "output_type": "execute_result",
          "data": {
            "text/plain": "' Starbucks sucks Starbucks sucks Starbucks sucks'"
          },
          "metadata": {}
        }
      ]
    },
    {
      "cell_type": "markdown",
      "source": "Create New Strings by setting it to an original string which is then updated to the new string",
      "metadata": {}
    },
    {
      "cell_type": "code",
      "source": "string2 = string2 + \" Eghagha\"\nstring2",
      "metadata": {
        "trusted": true
      },
      "execution_count": 48,
      "outputs": [
        {
          "execution_count": 48,
          "output_type": "execute_result",
          "data": {
            "text/plain": "'Nicholas Wilson Eghagha'"
          },
          "metadata": {}
        }
      ]
    },
    {
      "cell_type": "code",
      "source": "",
      "metadata": {},
      "execution_count": null,
      "outputs": []
    },
    {
      "cell_type": "markdown",
      "source": "## ESCAPE SEQUENCES",
      "metadata": {}
    },
    {
      "cell_type": "markdown",
      "source": "__New Lines__ \\n",
      "metadata": {}
    },
    {
      "cell_type": "code",
      "source": "print(\"Nicholas Wilson Eghagha \\n is the best\")",
      "metadata": {
        "trusted": true
      },
      "execution_count": 49,
      "outputs": [
        {
          "name": "stdout",
          "text": "Nicholas Wilson Eghagha \n is the best\n",
          "output_type": "stream"
        }
      ]
    },
    {
      "cell_type": "markdown",
      "source": "__Tab__ \\t",
      "metadata": {}
    },
    {
      "cell_type": "code",
      "source": "print(\"Nicholas Wilson Eghagha \\t is the best\")",
      "metadata": {
        "trusted": true
      },
      "execution_count": 50,
      "outputs": [
        {
          "name": "stdout",
          "text": "Nicholas Wilson Eghagha \t is the best\n",
          "output_type": "stream"
        }
      ]
    },
    {
      "cell_type": "markdown",
      "source": "__Backslash__ \\\\",
      "metadata": {}
    },
    {
      "cell_type": "code",
      "source": "print(\"Nicholas Wilson Eghagha \\\\ is the best\")",
      "metadata": {
        "trusted": true
      },
      "execution_count": 51,
      "outputs": [
        {
          "name": "stdout",
          "text": "Nicholas Wilson Eghagha \\ is the best\n",
          "output_type": "stream"
        }
      ]
    },
    {
      "cell_type": "markdown",
      "source": "## String Method Operations",
      "metadata": {}
    },
    {
      "cell_type": "markdown",
      "source": "__UpperCase__",
      "metadata": {}
    },
    {
      "cell_type": "markdown",
      "source": "This string method converts lowercase characters into uppercase.",
      "metadata": {}
    },
    {
      "cell_type": "code",
      "source": "#Assigning string to a variable\nstring5 = 'I am good'\nstring5",
      "metadata": {
        "trusted": true
      },
      "execution_count": 3,
      "outputs": [
        {
          "execution_count": 3,
          "output_type": "execute_result",
          "data": {
            "text/plain": "'I am good'"
          },
          "metadata": {}
        }
      ]
    },
    {
      "cell_type": "code",
      "source": "#Converting string5 to uppercase\nstring6=string5.upper()\nstring6",
      "metadata": {
        "trusted": true
      },
      "execution_count": 5,
      "outputs": [
        {
          "execution_count": 5,
          "output_type": "execute_result",
          "data": {
            "text/plain": "'I AM GOOD'"
          },
          "metadata": {}
        }
      ]
    },
    {
      "cell_type": "markdown",
      "source": "__LowerCase__",
      "metadata": {}
    },
    {
      "cell_type": "markdown",
      "source": "This string method converts uppercase characters into lowercase.",
      "metadata": {}
    },
    {
      "cell_type": "code",
      "source": "#Converting string6 to lowercase\nstring7=string6.lower()\nstring7",
      "metadata": {
        "trusted": true
      },
      "execution_count": 6,
      "outputs": [
        {
          "execution_count": 6,
          "output_type": "execute_result",
          "data": {
            "text/plain": "'i am good'"
          },
          "metadata": {}
        }
      ]
    },
    {
      "cell_type": "markdown",
      "source": "__Replacing Substrings__",
      "metadata": {}
    },
    {
      "cell_type": "markdown",
      "source": "This replaces a part or subset of a string with a new string",
      "metadata": {}
    },
    {
      "cell_type": "code",
      "source": "#Replacing a string subset\nstring8='I am trying to replace a subset of this string'\nstring9=string8.replace('I am', 'I have stopped')\nstring9",
      "metadata": {
        "trusted": true
      },
      "execution_count": 10,
      "outputs": [
        {
          "execution_count": 10,
          "output_type": "execute_result",
          "data": {
            "text/plain": "'I have stopped trying to replace a subset of this string'"
          },
          "metadata": {}
        }
      ]
    },
    {
      "cell_type": "markdown",
      "source": "__Finding Substrings__",
      "metadata": {}
    },
    {
      "cell_type": "markdown",
      "source": "One can find the start of certian characters they which to locate in a string using the __find__ string method.",
      "metadata": {}
    },
    {
      "cell_type": "code",
      "source": "#Define string10 variable\nstring10='I believe he is a good addition to the team we are currently trying to set up to lead the investigationg into the death of Mrs. Charles Edwin'\nstring10",
      "metadata": {
        "trusted": true
      },
      "execution_count": 16,
      "outputs": [
        {
          "execution_count": 16,
          "output_type": "execute_result",
          "data": {
            "text/plain": "'I believe he is a good addition to the team we are currently trying to set up to lead the investigationg into the death of Mrs. Charles Edwin'"
          },
          "metadata": {}
        }
      ]
    },
    {
      "cell_type": "code",
      "source": "#Find \"death\" in string10\nstring10.find('death')",
      "metadata": {
        "trusted": true
      },
      "execution_count": 17,
      "outputs": [
        {
          "execution_count": 17,
          "output_type": "execute_result",
          "data": {
            "text/plain": "114"
          },
          "metadata": {}
        }
      ]
    },
    {
      "cell_type": "code",
      "source": "#Check the length of characters in string10",
      "metadata": {
        "trusted": true
      },
      "execution_count": 18,
      "outputs": []
    },
    {
      "cell_type": "code",
      "source": "len(string10)",
      "metadata": {
        "trusted": true
      },
      "execution_count": 19,
      "outputs": [
        {
          "execution_count": 19,
          "output_type": "execute_result",
          "data": {
            "text/plain": "141"
          },
          "metadata": {}
        }
      ]
    },
    {
      "cell_type": "markdown",
      "source": "QUIZ",
      "metadata": {}
    },
    {
      "cell_type": "code",
      "source": "#What is the value of the variable c after the following code is executed\na = \"1\"\nb = '2'\nc = a+b\nc",
      "metadata": {
        "trusted": true
      },
      "execution_count": 24,
      "outputs": [
        {
          "execution_count": 24,
          "output_type": "execute_result",
          "data": {
            "text/plain": "'12'"
          },
          "metadata": {}
        }
      ]
    },
    {
      "cell_type": "code",
      "source": "#Consider the variable d use slicing to print out the first three elements of the string d\nd = \"ABCDEFG\"\nd[0:3]",
      "metadata": {
        "trusted": true
      },
      "execution_count": 28,
      "outputs": [
        {
          "execution_count": 28,
          "output_type": "execute_result",
          "data": {
            "text/plain": "'ABC'"
          },
          "metadata": {}
        }
      ]
    },
    {
      "cell_type": "code",
      "source": "#Use a stride value of 2 to print out every second character of the string e\ne = 'clocrkr1e1c1t'\ne[::2]",
      "metadata": {
        "trusted": true
      },
      "execution_count": 29,
      "outputs": [
        {
          "execution_count": 29,
          "output_type": "execute_result",
          "data": {
            "text/plain": "'correct'"
          },
          "metadata": {}
        }
      ]
    },
    {
      "cell_type": "code",
      "source": "#Print out a blacklash\nprint('I am trying \\\\ to print a backslash in this string')",
      "metadata": {
        "trusted": true
      },
      "execution_count": 38,
      "outputs": [
        {
          "name": "stdout",
          "text": "I am trying \\ to print a backslash in this string\n",
          "output_type": "stream"
        }
      ]
    },
    {
      "cell_type": "code",
      "source": "# Convert string f to uppercase\n\nf = \"You are wrong\"\ng=f.upper()\ng",
      "metadata": {
        "trusted": true
      },
      "execution_count": 40,
      "outputs": [
        {
          "execution_count": 40,
          "output_type": "execute_result",
          "data": {
            "text/plain": "'YOU ARE WRONG'"
          },
          "metadata": {}
        }
      ]
    },
    {
      "cell_type": "code",
      "source": "#Consider the variable h, and find the first index of the sub-string 'snow'\n\nh = \"Mary had a little lamb Little lamb, little lamb Mary had a little lamb \\\nIts fleece was white as snow And everywhere that Mary went Mary went, Mary went \\\nEverywhere that Mary went The lamb was sure to go\"\nh.find('snow')",
      "metadata": {
        "trusted": true
      },
      "execution_count": 41,
      "outputs": [
        {
          "execution_count": 41,
          "output_type": "execute_result",
          "data": {
            "text/plain": "95"
          },
          "metadata": {}
        }
      ]
    },
    {
      "cell_type": "code",
      "source": "len(h)",
      "metadata": {
        "trusted": true
      },
      "execution_count": 42,
      "outputs": [
        {
          "execution_count": 42,
          "output_type": "execute_result",
          "data": {
            "text/plain": "200"
          },
          "metadata": {}
        }
      ]
    },
    {
      "cell_type": "code",
      "source": "#In g, replace the sub-string Mary with Bob\ni=h.replace('Mary', 'Bob')\ni",
      "metadata": {
        "trusted": true
      },
      "execution_count": 43,
      "outputs": [
        {
          "execution_count": 43,
          "output_type": "execute_result",
          "data": {
            "text/plain": "'Bob had a little lamb Little lamb, little lamb Bob had a little lamb Its fleece was white as snow And everywhere that Bob went Bob went, Bob went Everywhere that Bob went The lamb was sure to go'"
          },
          "metadata": {}
        }
      ]
    },
    {
      "cell_type": "code",
      "source": "",
      "metadata": {},
      "execution_count": null,
      "outputs": []
    },
    {
      "cell_type": "markdown",
      "source": "## EXCELLENT WORK NICHOLAS",
      "metadata": {}
    },
    {
      "cell_type": "code",
      "source": "",
      "metadata": {},
      "execution_count": null,
      "outputs": []
    },
    {
      "cell_type": "code",
      "source": "",
      "metadata": {},
      "execution_count": null,
      "outputs": []
    },
    {
      "cell_type": "code",
      "source": "",
      "metadata": {},
      "execution_count": null,
      "outputs": []
    },
    {
      "cell_type": "code",
      "source": "",
      "metadata": {},
      "execution_count": null,
      "outputs": []
    },
    {
      "cell_type": "code",
      "source": "",
      "metadata": {},
      "execution_count": null,
      "outputs": []
    },
    {
      "cell_type": "code",
      "source": "",
      "metadata": {},
      "execution_count": null,
      "outputs": []
    },
    {
      "cell_type": "code",
      "source": "",
      "metadata": {},
      "execution_count": null,
      "outputs": []
    },
    {
      "cell_type": "code",
      "source": "",
      "metadata": {},
      "execution_count": null,
      "outputs": []
    },
    {
      "cell_type": "code",
      "source": "",
      "metadata": {},
      "execution_count": null,
      "outputs": []
    },
    {
      "cell_type": "code",
      "source": "",
      "metadata": {},
      "execution_count": null,
      "outputs": []
    },
    {
      "cell_type": "code",
      "source": "",
      "metadata": {},
      "execution_count": null,
      "outputs": []
    },
    {
      "cell_type": "code",
      "source": "",
      "metadata": {},
      "execution_count": null,
      "outputs": []
    },
    {
      "cell_type": "code",
      "source": "",
      "metadata": {},
      "execution_count": null,
      "outputs": []
    },
    {
      "cell_type": "code",
      "source": "",
      "metadata": {},
      "execution_count": null,
      "outputs": []
    },
    {
      "cell_type": "code",
      "source": "",
      "metadata": {},
      "execution_count": null,
      "outputs": []
    },
    {
      "cell_type": "code",
      "source": "",
      "metadata": {},
      "execution_count": null,
      "outputs": []
    },
    {
      "cell_type": "code",
      "source": "",
      "metadata": {},
      "execution_count": null,
      "outputs": []
    },
    {
      "cell_type": "code",
      "source": "",
      "metadata": {},
      "execution_count": null,
      "outputs": []
    },
    {
      "cell_type": "code",
      "source": "",
      "metadata": {},
      "execution_count": null,
      "outputs": []
    },
    {
      "cell_type": "code",
      "source": "",
      "metadata": {},
      "execution_count": null,
      "outputs": []
    },
    {
      "cell_type": "code",
      "source": "",
      "metadata": {},
      "execution_count": null,
      "outputs": []
    },
    {
      "cell_type": "code",
      "source": "",
      "metadata": {},
      "execution_count": null,
      "outputs": []
    },
    {
      "cell_type": "code",
      "source": "",
      "metadata": {},
      "execution_count": null,
      "outputs": []
    },
    {
      "cell_type": "code",
      "source": "",
      "metadata": {},
      "execution_count": null,
      "outputs": []
    },
    {
      "cell_type": "code",
      "source": "",
      "metadata": {},
      "execution_count": null,
      "outputs": []
    },
    {
      "cell_type": "code",
      "source": "",
      "metadata": {},
      "execution_count": null,
      "outputs": []
    },
    {
      "cell_type": "code",
      "source": "",
      "metadata": {},
      "execution_count": null,
      "outputs": []
    },
    {
      "cell_type": "code",
      "source": "",
      "metadata": {},
      "execution_count": null,
      "outputs": []
    },
    {
      "cell_type": "code",
      "source": "",
      "metadata": {},
      "execution_count": null,
      "outputs": []
    },
    {
      "cell_type": "code",
      "source": "",
      "metadata": {},
      "execution_count": null,
      "outputs": []
    },
    {
      "cell_type": "code",
      "source": "",
      "metadata": {},
      "execution_count": null,
      "outputs": []
    },
    {
      "cell_type": "code",
      "source": "",
      "metadata": {},
      "execution_count": null,
      "outputs": []
    },
    {
      "cell_type": "code",
      "source": "",
      "metadata": {},
      "execution_count": null,
      "outputs": []
    },
    {
      "cell_type": "code",
      "source": "",
      "metadata": {},
      "execution_count": null,
      "outputs": []
    },
    {
      "cell_type": "code",
      "source": "",
      "metadata": {},
      "execution_count": null,
      "outputs": []
    },
    {
      "cell_type": "code",
      "source": "",
      "metadata": {},
      "execution_count": null,
      "outputs": []
    },
    {
      "cell_type": "code",
      "source": "",
      "metadata": {},
      "execution_count": null,
      "outputs": []
    },
    {
      "cell_type": "code",
      "source": "",
      "metadata": {},
      "execution_count": null,
      "outputs": []
    },
    {
      "cell_type": "code",
      "source": "",
      "metadata": {},
      "execution_count": null,
      "outputs": []
    },
    {
      "cell_type": "code",
      "source": "",
      "metadata": {},
      "execution_count": null,
      "outputs": []
    }
  ]
}