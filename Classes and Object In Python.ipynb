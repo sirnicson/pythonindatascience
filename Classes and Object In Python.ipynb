{
  "metadata": {
    "language_info": {
      "codemirror_mode": {
        "name": "python",
        "version": 3
      },
      "file_extension": ".py",
      "mimetype": "text/x-python",
      "name": "python",
      "nbconvert_exporter": "python",
      "pygments_lexer": "ipython3",
      "version": "3.8"
    },
    "kernelspec": {
      "name": "python",
      "display_name": "Python (Pyodide)",
      "language": "python"
    }
  },
  "nbformat_minor": 4,
  "nbformat": 4,
  "cells": [
    {
      "cell_type": "markdown",
      "source": "## Classes and Objects In Python",
      "metadata": {
        "tags": []
      }
    },
    {
      "cell_type": "markdown",
      "source": "### Creating a Class",
      "metadata": {}
    },
    {
      "cell_type": "markdown",
      "source": "The first step in creating a class is giving it a name. In this notebook, we will create two classes: Circle and Rectangle. \n\nWe need to determine all the data that make up that class, which we call __attributes__. \n\nThe class Circle can have the attribute radius and color, while the Rectangle class can have the attribute height and width.",
      "metadata": {}
    },
    {
      "cell_type": "code",
      "source": "",
      "metadata": {},
      "execution_count": null,
      "outputs": []
    },
    {
      "cell_type": "markdown",
      "source": "__An instance of an object__ is the realisation of a class. Also known as object type. The Circle class can have 3 different colours (red, blue,yellow) with 3 diffrent radia respectively (3,5,7). \n\nThus creating three instances of the Circle class; a red circle with a radius of 3, a blue circle with a radius of 5, and a yellow circle with a radius of 7.",
      "metadata": {}
    },
    {
      "cell_type": "markdown",
      "source": "### Methods\n\nMethods give you a way to change or interact with the object; they are functions that interact with objects. \n\nFor example, let’s say we would like to increase the radius of a circle by a specified amount. We can create a method called __.add_radius(r)__ that increases the radius by r.",
      "metadata": {}
    },
    {
      "cell_type": "markdown",
      "source": "### Creating a Class\nNow we are going to create a class Circle, but first, we are going to import a library to draw the objects:",
      "metadata": {}
    },
    {
      "cell_type": "code",
      "source": "# Import the library\n\nimport matplotlib.pyplot as plt\n%matplotlib inline",
      "metadata": {
        "trusted": true
      },
      "execution_count": 2,
      "outputs": []
    },
    {
      "cell_type": "markdown",
      "source": "The first step in creating your own class is to use the class keyword, then the name of the class",
      "metadata": {}
    },
    {
      "cell_type": "code",
      "source": "# Create a class Circle\n\nclass Circle(object):\n    \n    # Constructor\n    def __init__(self, radius=3, color='blue'):\n        self.radius = radius\n        self.color = color \n    \n    # Method\n    def add_radius(self, r):\n        self.radius = self.radius + r\n        return(self.radius)\n    \n    # Method\n    def drawCircle(self):\n        plt.gca().add_patch(plt.Circle((0, 0), radius=self.radius, fc=self.color))\n        plt.axis('scaled')\n        plt.show()  ",
      "metadata": {
        "trusted": true
      },
      "execution_count": 3,
      "outputs": []
    },
    {
      "cell_type": "markdown",
      "source": "To construct we use the  __ ___init___ __ function, is used to initialize the object. Remember init is written with two underslash on either sides.\n\nThe inputs are data attributes (radius, colour). \n\nThe term self contains all the attributes in the set. For example the self.color gives the value of the attribute color and self.radius will give you the radius of the object. \n\nWe also have the method __add_radius()__ with the parameter r, the method adds the value of r to the attribute radius. \n\nTo access the radius we use the syntax __self.radius__.",
      "metadata": {}
    },
    {
      "cell_type": "markdown",
      "source": "#### Creating an instance of a class Circle\n\nLet’s create the object RedCircle of type Circle to do the following:",
      "metadata": {}
    },
    {
      "cell_type": "code",
      "source": "# Create an object RedCircle\n\nRedCircle = Circle(10, 'red')",
      "metadata": {
        "trusted": true
      },
      "execution_count": 4,
      "outputs": []
    },
    {
      "cell_type": "markdown",
      "source": "We can use the dir command to get a list of the object's methods. Many of them are default Python methods.",
      "metadata": {}
    },
    {
      "cell_type": "code",
      "source": "# Find out the methods can be used on the object RedCircle\n\ndir(RedCircle)",
      "metadata": {
        "trusted": true
      },
      "execution_count": 5,
      "outputs": [
        {
          "execution_count": 5,
          "output_type": "execute_result",
          "data": {
            "text/plain": "['__class__',\n '__delattr__',\n '__dict__',\n '__dir__',\n '__doc__',\n '__eq__',\n '__format__',\n '__ge__',\n '__getattribute__',\n '__getstate__',\n '__gt__',\n '__hash__',\n '__init__',\n '__init_subclass__',\n '__le__',\n '__lt__',\n '__module__',\n '__ne__',\n '__new__',\n '__reduce__',\n '__reduce_ex__',\n '__repr__',\n '__setattr__',\n '__sizeof__',\n '__str__',\n '__subclasshook__',\n '__weakref__',\n 'add_radius',\n 'color',\n 'drawCircle',\n 'radius']"
          },
          "metadata": {}
        }
      ]
    },
    {
      "cell_type": "markdown",
      "source": "We can look at the data attributes of the object:",
      "metadata": {}
    },
    {
      "cell_type": "code",
      "source": "# Print the object attribute radius\n\nRedCircle.radius",
      "metadata": {
        "trusted": true
      },
      "execution_count": 6,
      "outputs": [
        {
          "execution_count": 6,
          "output_type": "execute_result",
          "data": {
            "text/plain": "10"
          },
          "metadata": {}
        }
      ]
    },
    {
      "cell_type": "markdown",
      "source": "We can change the object's data attributes:",
      "metadata": {}
    },
    {
      "cell_type": "code",
      "source": "# Set the object attribute radius\n\nRedCircle.radius = 1\nRedCircle.radius",
      "metadata": {
        "trusted": true
      },
      "execution_count": 7,
      "outputs": [
        {
          "execution_count": 7,
          "output_type": "execute_result",
          "data": {
            "text/plain": "1"
          },
          "metadata": {}
        }
      ]
    },
    {
      "cell_type": "markdown",
      "source": "We can draw the object by using the method drawCircle():",
      "metadata": {}
    },
    {
      "cell_type": "code",
      "source": "# Call the method drawCircle\n\nRedCircle.drawCircle()",
      "metadata": {
        "trusted": true
      },
      "execution_count": 8,
      "outputs": [
        {
          "output_type": "display_data",
          "data": {
            "text/plain": "<Figure size 640x480 with 1 Axes>",
            "image/png": "[encoded data removed]"
          },
          "metadata": {}
        }
      ]
    },
    {
      "cell_type": "markdown",
      "source": "We can increase the radius of the circle by applying the method add_radius(). Let's increases the radius by 2 and then by 5:",
      "metadata": {}
    },
    {
      "cell_type": "code",
      "source": "# Use method to change the object attribute radius\n\nprint('Radius of object:',RedCircle.radius)\nRedCircle.add_radius(2)\nprint('Radius of object of after applying the method add_radius(2):',RedCircle.radius)\nRedCircle.add_radius(5)\nprint('Radius of object of after applying the method add_radius(5):',RedCircle.radius)",
      "metadata": {
        "trusted": true
      },
      "execution_count": 9,
      "outputs": [
        {
          "name": "stdout",
          "text": "Radius of object: 1\nRadius of object of after applying the method add_radius(2): 3\nRadius of object of after applying the method add_radius(5): 8\n",
          "output_type": "stream"
        }
      ]
    },
    {
      "cell_type": "code",
      "source": "# Call the method drawCircle\n\nRedCircle.drawCircle()",
      "metadata": {
        "trusted": true
      },
      "execution_count": 10,
      "outputs": [
        {
          "output_type": "display_data",
          "data": {
            "text/plain": "<Figure size 640x480 with 1 Axes>",
            "image/png": "[encoded data removed]"
          },
          "metadata": {}
        }
      ]
    },
    {
      "cell_type": "code",
      "source": "RedCircle.radius",
      "metadata": {
        "trusted": true
      },
      "execution_count": 11,
      "outputs": [
        {
          "execution_count": 11,
          "output_type": "execute_result",
          "data": {
            "text/plain": "8"
          },
          "metadata": {}
        }
      ]
    },
    {
      "cell_type": "code",
      "source": "RedCircle.radius=4\nRedCircle.radius",
      "metadata": {
        "trusted": true
      },
      "execution_count": 12,
      "outputs": [
        {
          "execution_count": 12,
          "output_type": "execute_result",
          "data": {
            "text/plain": "4"
          },
          "metadata": {}
        }
      ]
    },
    {
      "cell_type": "code",
      "source": "RedCircle.drawCircle()",
      "metadata": {
        "trusted": true
      },
      "execution_count": 13,
      "outputs": [
        {
          "output_type": "display_data",
          "data": {
            "text/plain": "<Figure size 640x480 with 1 Axes>",
            "image/png": "[encoded data removed]"
          },
          "metadata": {}
        }
      ]
    },
    {
      "cell_type": "markdown",
      "source": "Let’s create a blue circle. As the default colour is blue, all we have to do is specify what the radius is:",
      "metadata": {}
    },
    {
      "cell_type": "code",
      "source": "# Create a blue circle with a given radius\n\nBlueCircle = Circle(radius=50)",
      "metadata": {
        "trusted": true
      },
      "execution_count": 14,
      "outputs": []
    },
    {
      "cell_type": "code",
      "source": "BlueCircle.color",
      "metadata": {
        "trusted": true
      },
      "execution_count": 15,
      "outputs": [
        {
          "execution_count": 15,
          "output_type": "execute_result",
          "data": {
            "text/plain": "'blue'"
          },
          "metadata": {}
        }
      ]
    },
    {
      "cell_type": "code",
      "source": "BlueCircle.radius",
      "metadata": {
        "trusted": true
      },
      "execution_count": 16,
      "outputs": [
        {
          "execution_count": 16,
          "output_type": "execute_result",
          "data": {
            "text/plain": "50"
          },
          "metadata": {}
        }
      ]
    },
    {
      "cell_type": "code",
      "source": "BlueCircle.drawCircle()",
      "metadata": {
        "trusted": true
      },
      "execution_count": 17,
      "outputs": [
        {
          "output_type": "display_data",
          "data": {
            "text/plain": "<Figure size 640x480 with 1 Axes>",
            "image/png": "[encoded data removed]"
          },
          "metadata": {}
        }
      ]
    },
    {
      "cell_type": "code",
      "source": "BlueCircle.add_radius(5)",
      "metadata": {
        "trusted": true
      },
      "execution_count": 18,
      "outputs": [
        {
          "execution_count": 18,
          "output_type": "execute_result",
          "data": {
            "text/plain": "55"
          },
          "metadata": {}
        }
      ]
    },
    {
      "cell_type": "code",
      "source": "BlueCircle.drawCircle()",
      "metadata": {
        "trusted": true
      },
      "execution_count": 19,
      "outputs": [
        {
          "output_type": "display_data",
          "data": {
            "text/plain": "<Figure size 640x480 with 1 Axes>",
            "image/png": "[encoded data removed]"
          },
          "metadata": {}
        }
      ]
    },
    {
      "cell_type": "markdown",
      "source": "### The Rectangle Class\n\nLet's create a class rectangle with the attributes of height, width, and color. We will only add the method to draw the rectangle object:",
      "metadata": {}
    },
    {
      "cell_type": "code",
      "source": "# Create a new Rectangle class for creating a rectangle object\n\nclass Rectangle(object):\n    \n    # Constructor\n    def __init__(self, width=2, height=3, color='r'):\n        self.height = height \n        self.width = width\n        self.color = color\n    \n    # Method\n    def drawRectangle(self):\n        plt.gca().add_patch(plt.Rectangle((0, 0), self.width, self.height ,fc=self.color))\n        plt.axis('scaled')\n        plt.show()",
      "metadata": {
        "trusted": true
      },
      "execution_count": 20,
      "outputs": []
    },
    {
      "cell_type": "markdown",
      "source": "Let’s create the object SkinnyBlueRectangle of type Rectangle. Its width will be 2 and height will be 3, and the color will be blue:",
      "metadata": {}
    },
    {
      "cell_type": "code",
      "source": "# Create a new object rectangle\n\nSkinnyBlueRectangle = Rectangle(2, 3, 'blue')",
      "metadata": {
        "trusted": true
      },
      "execution_count": 21,
      "outputs": []
    },
    {
      "cell_type": "markdown",
      "source": "Access the attributes of the object",
      "metadata": {}
    },
    {
      "cell_type": "code",
      "source": "# Print the object attribute height\n\nSkinnyBlueRectangle.height ",
      "metadata": {
        "trusted": true
      },
      "execution_count": 22,
      "outputs": [
        {
          "execution_count": 22,
          "output_type": "execute_result",
          "data": {
            "text/plain": "3"
          },
          "metadata": {}
        }
      ]
    },
    {
      "cell_type": "code",
      "source": "# Print the object attribute width\n\nSkinnyBlueRectangle.width ",
      "metadata": {
        "trusted": true
      },
      "execution_count": 23,
      "outputs": [
        {
          "execution_count": 23,
          "output_type": "execute_result",
          "data": {
            "text/plain": "2"
          },
          "metadata": {}
        }
      ]
    },
    {
      "cell_type": "code",
      "source": "# Print the object attribute color\n\nSkinnyBlueRectangle.color ",
      "metadata": {
        "trusted": true
      },
      "execution_count": 24,
      "outputs": [
        {
          "execution_count": 24,
          "output_type": "execute_result",
          "data": {
            "text/plain": "'blue'"
          },
          "metadata": {}
        }
      ]
    },
    {
      "cell_type": "code",
      "source": "# Use the drawRectangle method to draw the shape\n\nSkinnyBlueRectangle.drawRectangle()",
      "metadata": {
        "trusted": true
      },
      "execution_count": 25,
      "outputs": [
        {
          "output_type": "display_data",
          "data": {
            "text/plain": "<Figure size 640x480 with 1 Axes>",
            "image/png": "[encoded data removed]"
          },
          "metadata": {}
        }
      ]
    },
    {
      "cell_type": "markdown",
      "source": "Let’s create the object FatYellowRectangle of type Rectangle:",
      "metadata": {}
    },
    {
      "cell_type": "code",
      "source": "# Create a new object rectangle\n\nFatYellowRectangle = Rectangle(20, 6, 'yellow')",
      "metadata": {
        "trusted": true
      },
      "execution_count": 26,
      "outputs": []
    },
    {
      "cell_type": "code",
      "source": "# Print the object attribute height\n\nFatYellowRectangle.height ",
      "metadata": {
        "trusted": true
      },
      "execution_count": 28,
      "outputs": [
        {
          "execution_count": 28,
          "output_type": "execute_result",
          "data": {
            "text/plain": "6"
          },
          "metadata": {}
        }
      ]
    },
    {
      "cell_type": "code",
      "source": "# Print the object attribute width\n\nFatYellowRectangle.width ",
      "metadata": {
        "trusted": true
      },
      "execution_count": 29,
      "outputs": [
        {
          "execution_count": 29,
          "output_type": "execute_result",
          "data": {
            "text/plain": "20"
          },
          "metadata": {}
        }
      ]
    },
    {
      "cell_type": "code",
      "source": "# Print the object attribute color\n\nFatYellowRectangle.color ",
      "metadata": {
        "trusted": true
      },
      "execution_count": 30,
      "outputs": [
        {
          "execution_count": 30,
          "output_type": "execute_result",
          "data": {
            "text/plain": "'yellow'"
          },
          "metadata": {}
        }
      ]
    },
    {
      "cell_type": "code",
      "source": "# Use the drawRectangle method to draw the shape\n\nFatYellowRectangle.drawRectangle()",
      "metadata": {
        "trusted": true
      },
      "execution_count": 31,
      "outputs": [
        {
          "output_type": "display_data",
          "data": {
            "text/plain": "<Figure size 640x480 with 1 Axes>",
            "image/png": "[encoded data removed]"
          },
          "metadata": {}
        }
      ]
    },
    {
      "cell_type": "code",
      "source": "",
      "metadata": {},
      "execution_count": null,
      "outputs": []
    },
    {
      "cell_type": "markdown",
      "source": "### SELF PRACTICE ON CREATING CLASS",
      "metadata": {}
    },
    {
      "cell_type": "markdown",
      "source": "#### Create Class of Cities\n\nDeveloped Cities - London - Europe - 15 million - United Kingdom\n\nDeveloping Cities - Lagos - Africa - 25 million - Nigeria",
      "metadata": {}
    },
    {
      "cell_type": "code",
      "source": "# To create a class, use the keyword class",
      "metadata": {
        "trusted": true
      },
      "execution_count": 53,
      "outputs": []
    },
    {
      "cell_type": "code",
      "source": "class Cities:\n    name='London'",
      "metadata": {
        "trusted": true
      },
      "execution_count": 55,
      "outputs": []
    },
    {
      "cell_type": "code",
      "source": "# Now we can use the class named Cities to create objects:",
      "metadata": {
        "trusted": true
      },
      "execution_count": 56,
      "outputs": []
    },
    {
      "cell_type": "code",
      "source": "DevelopedCity = Cities()\nprint(DevelopedCity.name)",
      "metadata": {
        "trusted": true
      },
      "execution_count": 57,
      "outputs": [
        {
          "name": "stdout",
          "text": "London\n",
          "output_type": "stream"
        }
      ]
    },
    {
      "cell_type": "markdown",
      "source": "Using the _init_ function",
      "metadata": {}
    },
    {
      "cell_type": "code",
      "source": "class Africa:\n    def __init__(self, country, capital):\n        self.country = country\n        self.capital = capital\n\n# Testing for object-Nigeria-Abuja\n\ncountry1 = Africa('Nigeria', 'Abuja')\n\nprint('Country:-', country1.country)\nprint('Capital:-', country1.capital)",
      "metadata": {
        "trusted": true
      },
      "execution_count": 59,
      "outputs": [
        {
          "name": "stdout",
          "text": "Country:- Nigeria\nCapital:- Abuja\n",
          "output_type": "stream"
        }
      ]
    },
    {
      "cell_type": "code",
      "source": "# Testing for object-Ghana,Cameroun, Togo, Egypt, South Africa, Kenya\n\ncountry2 = Africa('Ghana','Accra')\ncountry3 = Africa('Cameroun','Doula')\ncountry4 = Africa('Togo','Lome')\ncountry5 = Africa('Egypt','Cairo')\ncountry6 = Africa('Kenya','Nairobi')\ncountry7 = Africa('South Africa','Johanesburg')",
      "metadata": {
        "trusted": true
      },
      "execution_count": 62,
      "outputs": []
    },
    {
      "cell_type": "code",
      "source": "print('West Africa')\nprint('Country:-', country2.country)\nprint('Capital:-', country2.capital)\nprint('Country:-', country4.country)\nprint('Capital:-', country4.capital)\nprint('Central Africa')\nprint('Country:-', country3.country)\nprint('Capital:-', country3.capital)\nprint('East Africa')\nprint('Country:-', country6.country)\nprint('Capital:-', country6.capital)\nprint('North Africa')\nprint('Country:-', country5.country)\nprint('Capital:-', country5.capital)\nprint('South Africa')\nprint('Country:-', country7.country)\nprint('Capital:-', country7.capital)",
      "metadata": {
        "trusted": true
      },
      "execution_count": 63,
      "outputs": [
        {
          "name": "stdout",
          "text": "West Africa\nCountry:- Ghana\nCapital:- Accra\nCountry:- Togo\nCapital:- Lome\nCentral Africa\nCountry:- Cameroun\nCapital:- Doula\nEast Africa\nCountry:- Kenya\nCapital:- Nairobi\nNorth Africa\nCountry:- Egypt\nCapital:- Cairo\nSouth Africa\nCountry:- South Africa\nCapital:- Johanesburg\n",
          "output_type": "stream"
        }
      ]
    },
    {
      "cell_type": "markdown",
      "source": "## Running the Class of Africa 'code' all at once.",
      "metadata": {}
    },
    {
      "cell_type": "code",
      "source": "class Africa:\n    def __init__(self, country, capital):\n        self.country = country\n        self.capital = capital\n        \n# Testing for object-Nigeria-Abuja\n\ncountry1 = Africa('Nigeria', 'Abuja')\ncountry2 = Africa('Ghana','Accra')\ncountry3 = Africa('Cameroun','Doula')\ncountry4 = Africa('Togo','Lome')\ncountry5 = Africa('Egypt','Cairo')\ncountry6 = Africa('Kenya','Nairobi')\ncountry7 = Africa('South Africa','Johanesburg')\n\n\nprint('West Africa')\nprint('Country:-', country1.country)\nprint('Capital:-', country1.capital)\nprint('Country:-', country2.country)\nprint('Capital:-', country2.capital)\nprint('Country:-', country4.country)\nprint('Capital:-', country4.capital)\nprint('Central Africa')\nprint('Country:-', country3.country)\nprint('Capital:-', country3.capital)\nprint('East Africa')\nprint('Country:-', country6.country)\nprint('Capital:-', country6.capital)\nprint('North Africa')\nprint('Country:-', country5.country)\nprint('Capital:-', country5.capital)\nprint('South Africa')\nprint('Country:-', country7.country)\nprint('Capital:-', country7.capital)",
      "metadata": {
        "trusted": true
      },
      "execution_count": 64,
      "outputs": [
        {
          "name": "stdout",
          "text": "West Africa\nCountry:- Nigeria\nCapital:- Abuja\nCountry:- Ghana\nCapital:- Accra\nCountry:- Togo\nCapital:- Lome\nCentral Africa\nCountry:- Cameroun\nCapital:- Doula\nEast Africa\nCountry:- Kenya\nCapital:- Nairobi\nNorth Africa\nCountry:- Egypt\nCapital:- Cairo\nSouth Africa\nCountry:- South Africa\nCapital:- Johanesburg\n",
          "output_type": "stream"
        }
      ]
    },
    {
      "cell_type": "markdown",
      "source": "### The __str__() Function\n\nThe __str__() function controls what should be returned when the class object is represented as a string.\n\nIf the __str__() function is not set, the string representation of the object is returned:",
      "metadata": {}
    },
    {
      "cell_type": "code",
      "source": "# The string representation of an object WITHOUT the __str__() function:\nclass Person:\n    def __init__(self, name, age):\n        self.name = name\n        self.age = age\n\na = Person(\"John\", 36)\n\nprint(a)",
      "metadata": {
        "trusted": true
      },
      "execution_count": 66,
      "outputs": [
        {
          "name": "stdout",
          "text": "<__main__.Person object at 0x2854190>\n",
          "output_type": "stream"
        }
      ]
    },
    {
      "cell_type": "code",
      "source": "# The string representation of an object WITH the __str__() function:\nclass Person:\n    def __init__(self, name, age):\n        self.name = name\n        self.age = age\n    \n    def __str__(self):\n        return f\"{self.name}({self.age})\"\n\na = Person(\"John\", 36)\n\nprint(a)",
      "metadata": {
        "trusted": true
      },
      "execution_count": 70,
      "outputs": [
        {
          "name": "stdout",
          "text": "John(36)\n",
          "output_type": "stream"
        }
      ]
    },
    {
      "cell_type": "markdown",
      "source": "Or we could use the string method added to call for the value of a",
      "metadata": {}
    },
    {
      "cell_type": "code",
      "source": "a.__str__()",
      "metadata": {
        "trusted": true
      },
      "execution_count": 97,
      "outputs": [
        {
          "execution_count": 95,
          "output_type": "execute_result",
          "data": {
            "text/plain": "'John(36)'"
          },
          "metadata": {}
        }
      ]
    },
    {
      "cell_type": "markdown",
      "source": "### Object Methods\n\nObjects can also contain methods. Methods in objects are functions that belong to the object.",
      "metadata": {}
    },
    {
      "cell_type": "code",
      "source": "# Insert a function that prints a greeting, and execute it on the p1 object:\n\nclass Person:\n    def __init__(self, name, age):\n        self.name = name\n        self.age = age\n    \n       def __str__(self):\n        return f\"{self.name}({self.age})\"\n#_______________________________________________________________        \n                                        # insert method\n    def myfunc(self):\n        print(\"Hello my name is \" + self.name)\n\na = Person(\"John\", 36)\na.myfunc()",
      "metadata": {
        "trusted": true
      },
      "execution_count": null,
      "outputs": []
    },
    {
      "cell_type": "markdown",
      "source": "### The self Parameter\n\nThe self parameter is used to access variables that belongs to the class.\n\nIt does not have to be named self , you can call it whatever you like, but it has to be the first parameter of any function in the class:",
      "metadata": {}
    },
    {
      "cell_type": "code",
      "source": "# Use the words yeye instead of self:\nclass Person:\n    def __init__(yeye, name, age):\n        yeye.name = name\n        yeye.age = age\n        \n    def __str__(self):\n        return f\"{self.name}({self.age})\"\n        \n        \n    def myfunc(yeye):\n        print(\"Hello my name is \" + yeye.name)\n        print('I am', yeye.age, 'years old')\n        print('And I live in London')\n\na = Person(\"John\", 36)\na.myfunc()",
      "metadata": {
        "trusted": true
      },
      "execution_count": 92,
      "outputs": [
        {
          "name": "stdout",
          "text": "Hello my name is John\nI am 36 years old\nAnd I live in London\n",
          "output_type": "stream"
        }
      ]
    },
    {
      "cell_type": "markdown",
      "source": "#### Modify Object Properties\nYou can modify properties on objects like this:",
      "metadata": {}
    },
    {
      "cell_type": "code",
      "source": "# Set the age of a to 40:\n\na.age = 40",
      "metadata": {
        "trusted": true
      },
      "execution_count": 88,
      "outputs": []
    },
    {
      "cell_type": "code",
      "source": "a.myfunc()",
      "metadata": {
        "trusted": true
      },
      "execution_count": 89,
      "outputs": [
        {
          "name": "stdout",
          "text": "Hello my name is John\nI am 40 years old\nAnd I live in London\n",
          "output_type": "stream"
        }
      ]
    },
    {
      "cell_type": "code",
      "source": "",
      "metadata": {},
      "execution_count": null,
      "outputs": []
    },
    {
      "cell_type": "markdown",
      "source": "#### Scenario: Car dealership's inventory management system",
      "metadata": {}
    },
    {
      "cell_type": "markdown",
      "source": "##### Task-1. You are tasked with creating a Python program to represent vehicles using a class. Each car should have attributes for maximum speed and mileage.",
      "metadata": {}
    },
    {
      "cell_type": "code",
      "source": "# create class of cars\n\nclass Cars():\n    # define attributes\n    def __init__(self,speed,mileage):\n        self.speed=speed\n        self.mileage=mileage",
      "metadata": {
        "trusted": true
      },
      "execution_count": 98,
      "outputs": []
    },
    {
      "cell_type": "markdown",
      "source": "##### Task-2. Update the class with the default color for all vehicles,\" white\".",
      "metadata": {}
    },
    {
      "cell_type": "code",
      "source": "# create class of cars\n\nclass Cars():\n    # define attributes\n    def __init__(self,speed,mileage, color):\n        self.speed=speed\n        self.mileage=mileage\n        self.color=color      #update attribute (color)",
      "metadata": {
        "trusted": true
      },
      "execution_count": 99,
      "outputs": []
    },
    {
      "cell_type": "markdown",
      "source": "##### Task-3. Create methods in the Vehicle class to assign seating capacity to a vehicle.",
      "metadata": {}
    },
    {
      "cell_type": "code",
      "source": "# create class of cars\n\nclass Cars():\n    # define attributes\n    def __init__(self,speed,mileage, color):\n        self.speed=speed\n        self.mileage=mileage\n        self.color=color      #update attribute (color)\n        self.seating_capacity=None  # updated in attribute\n    \n    # add method to assign seating capacity\n    def assign_seating(self, seating_capacity):\n        self.seating_capacity=seating_capacity",
      "metadata": {
        "trusted": true
      },
      "execution_count": 100,
      "outputs": []
    },
    {
      "cell_type": "markdown",
      "source": "##### Task-4. Create a method to display all the properties of an object of the class.",
      "metadata": {}
    },
    {
      "cell_type": "code",
      "source": "# create class of cars\n\nclass Cars():\n    # define attributes\n    def __init__(self,speed,mileage, color):\n        self.speed=speed\n        self.mileage=mileage\n        self.color=color      #update attribute (color)\n        self.seating_capacity=None  # updated in attribute\n    \n    # add method to assign seating capacity\n    def assign_seating(self, seating_capacity):\n        self.seating_capacity=seating_capacity\n    \n    # add method to display car properties\n    def display_properties(self):\n        print('Properties of Car')\n        print('Color:', self.color)\n        print('Speed:', self.speed)\n        print('Mileage:', self.mileage)\n        print('Seating Capacity:', self.seating_capacity)",
      "metadata": {
        "trusted": true
      },
      "execution_count": 101,
      "outputs": []
    },
    {
      "cell_type": "markdown",
      "source": "##### Task-5. Now create two objects of the Cars class. First car is a white BMW with a max speed of 200kph and mileage of 50000kmpl with five seating capacities, and the second car is a red Benz with a max speed of 180kph and 75000kmpl with four seating capacities.",
      "metadata": {}
    },
    {
      "cell_type": "code",
      "source": "# create class of cars\n\nclass Cars():\n    # define attributes\n    def __init__(self,speed,mileage, color):\n        self.speed=speed\n        self.mileage=mileage\n        self.color=color      #update attribute (color)\n        self.seating_capacity=None # updated in attribute\n        self.name=None # updated in attribute\n    \n    # add method to assign seating capacity\n    def assign_seating(self, seating_capacity):\n        self.seating_capacity=seating_capacity\n    \n    def assign_name(self, name):\n        self.name=name\n    \n    # add method to display car properties\n    def display_properties(self):\n        print('Properties of Car')\n        print('Name:', self.name)\n        print('Color:', self.color)\n        print('Speed:', self.speed)\n        print('Mileage:', self.mileage)\n        print('Seating Capacity:', self.seating_capacity)\n        \n# Create Cars object 1 and 2\ncar1 = Cars(200,50000,'white')\ncar1.assign_name('BMW')\ncar1.assign_seating(5)\ncar1.display_properties()\n\ncar2 = Cars(180, 75000,'red')\ncar2.assign_name('Benz')\ncar2.assign_seating(4)\ncar2.display_properties()",
      "metadata": {
        "trusted": true
      },
      "execution_count": 105,
      "outputs": [
        {
          "name": "stdout",
          "text": "Properties of Car\nName: BMW\nColor: white\nSpeed: 200\nMileage: 50000\nSeating Capacity: 5\nProperties of Car\nName: Benz\nColor: red\nSpeed: 180\nMileage: 75000\nSeating Capacity: 4\n",
          "output_type": "stream"
        }
      ]
    },
    {
      "cell_type": "markdown",
      "source": "###  I DID IT!!!!!!",
      "metadata": {}
    },
    {
      "cell_type": "markdown",
      "source": "Create 3 more car objects of the car class: \n- Toyota-blue-150speed-65000mileage-6capacity\n- Ford-grey-300speed-77000mileage-8capacity\n- Nissan-orange-110speed-44000mileage-5capacity",
      "metadata": {}
    },
    {
      "cell_type": "code",
      "source": "# Create Cars object 3,4 and 5\ncar3 = Cars(150,65000,'blue')\ncar3.assign_name('Toyota')\ncar3.assign_seating(6)\ncar3.display_properties()\n\ncar4 = Cars(300, 77000,'grey')\ncar4.assign_name('Ford')\ncar4.assign_seating(8)\ncar4.display_properties()\n\ncar5 = Cars(110, 44000,'orange')\ncar5.assign_name('Nissan')\ncar5.assign_seating(5)\ncar5.display_properties()",
      "metadata": {
        "trusted": true
      },
      "execution_count": 106,
      "outputs": [
        {
          "name": "stdout",
          "text": "Properties of Car\nName: Toyota\nColor: blue\nSpeed: 150\nMileage: 65000\nSeating Capacity: 6\nProperties of Car\nName: Ford\nColor: grey\nSpeed: 300\nMileage: 77000\nSeating Capacity: 8\nProperties of Car\nName: Nissan\nColor: orange\nSpeed: 110\nMileage: 44000\nSeating Capacity: 5\n",
          "output_type": "stream"
        }
      ]
    },
    {
      "cell_type": "code",
      "source": "# Print All 5 cars\ncar1 = Cars(200,50000,'white')\ncar1.assign_name('BMW')\ncar1.assign_seating(5)\ncar1.display_properties()\n\ncar2 = Cars(180, 75000,'red')\ncar2.assign_name('Benz')\ncar2.assign_seating(4)\ncar2.display_properties()\n\ncar3 = Cars(150,65000,'blue')\ncar3.assign_name('Toyota')\ncar3.assign_seating(6)\ncar3.display_properties()\n\ncar4 = Cars(300, 77000,'grey')\ncar4.assign_name('Ford')\ncar4.assign_seating(8)\ncar4.display_properties()\n\ncar5 = Cars(110, 44000,'orange')\ncar5.assign_name('Nissan')\ncar5.assign_seating(5)\ncar5.display_properties()",
      "metadata": {
        "trusted": true
      },
      "execution_count": 107,
      "outputs": [
        {
          "name": "stdout",
          "text": "Properties of Car\nName: BMW\nColor: white\nSpeed: 200\nMileage: 50000\nSeating Capacity: 5\nProperties of Car\nName: Benz\nColor: red\nSpeed: 180\nMileage: 75000\nSeating Capacity: 4\nProperties of Car\nName: Toyota\nColor: blue\nSpeed: 150\nMileage: 65000\nSeating Capacity: 6\nProperties of Car\nName: Ford\nColor: grey\nSpeed: 300\nMileage: 77000\nSeating Capacity: 8\nProperties of Car\nName: Nissan\nColor: orange\nSpeed: 110\nMileage: 44000\nSeating Capacity: 5\n",
          "output_type": "stream"
        }
      ]
    },
    {
      "cell_type": "code",
      "source": "def bold_text(text):\n    bold_start = '\\033[1m'\n    bold_end = '\\033[0m'\n    return bold_start + text + bold_end",
      "metadata": {
        "trusted": true
      },
      "execution_count": 110,
      "outputs": []
    },
    {
      "cell_type": "code",
      "source": "print(bold_text('Well done Nick!'))",
      "metadata": {
        "trusted": true
      },
      "execution_count": 112,
      "outputs": [
        {
          "name": "stdout",
          "text": "\u001b[1mWell done Nick!\u001b[0m\n",
          "output_type": "stream"
        }
      ]
    },
    {
      "cell_type": "code",
      "source": "print('\\033[1m' + 'WELL DONE NICK' + '\\033[1M')",
      "metadata": {
        "trusted": true
      },
      "execution_count": 113,
      "outputs": [
        {
          "name": "stdout",
          "text": "\u001b[1mWELL DONE NICK\u001b[1M\n",
          "output_type": "stream"
        }
      ]
    },
    {
      "cell_type": "code",
      "source": "",
      "metadata": {},
      "execution_count": null,
      "outputs": []
    }
  ]
}