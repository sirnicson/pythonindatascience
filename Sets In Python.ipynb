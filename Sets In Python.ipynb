{
  "metadata": {
    "language_info": {
      "codemirror_mode": {
        "name": "python",
        "version": 3
      },
      "file_extension": ".py",
      "mimetype": "text/x-python",
      "name": "python",
      "nbconvert_exporter": "python",
      "pygments_lexer": "ipython3",
      "version": "3.8"
    },
    "kernelspec": {
      "name": "python",
      "display_name": "Python (Pyodide)",
      "language": "python"
    }
  },
  "nbformat_minor": 4,
  "nbformat": 4,
  "cells": [
    {
      "cell_type": "markdown",
      "source": "__Sets in Python__",
      "metadata": {}
    },
    {
      "cell_type": "markdown",
      "source": "A set is a unique collection of objects in Python. You can denote a set with a pair of curly brackets {}. Python will automatically remove duplicate item.",
      "metadata": {}
    },
    {
      "cell_type": "code",
      "source": "# Create a set\n\nset1 = {\"pop\", \"rock\", \"soul\", \"hard rock\", \"rock\", \"R&B\", \"rock\", \"disco\"}\nset1",
      "metadata": {
        "trusted": true
      },
      "execution_count": 1,
      "outputs": [
        {
          "execution_count": 1,
          "output_type": "execute_result",
          "data": {
            "text/plain": "{'R&B', 'disco', 'hard rock', 'pop', 'rock', 'soul'}"
          },
          "metadata": {}
        }
      ]
    },
    {
      "cell_type": "markdown",
      "source": "Here duplicate items'rock' 'rock' 'rock' were all combined into one single item.",
      "metadata": {}
    },
    {
      "cell_type": "markdown",
      "source": "Convert List to Set",
      "metadata": {}
    },
    {
      "cell_type": "code",
      "source": "# Convert the genres list to set\ngenres = [\"pop\", \"pop\", \"rock\", \"folk rock\", \"hard rock\", \"soul\", \\\n                    \"progressive rock\", \"soft rock\", \"R&B\", \"disco\"]\nmusic_genres = set(genres)\nmusic_genres",
      "metadata": {
        "trusted": true
      },
      "execution_count": 2,
      "outputs": [
        {
          "execution_count": 2,
          "output_type": "execute_result",
          "data": {
            "text/plain": "{'R&B',\n 'disco',\n 'folk rock',\n 'hard rock',\n 'pop',\n 'progressive rock',\n 'rock',\n 'soft rock',\n 'soul'}"
          },
          "metadata": {}
        }
      ]
    },
    {
      "cell_type": "markdown",
      "source": "__Set Operations__",
      "metadata": {}
    },
    {
      "cell_type": "code",
      "source": "# Sample set\n\nA = set([\"Thriller\", \"Back in Black\", \"AC/DC\"])\nA",
      "metadata": {
        "trusted": true
      },
      "execution_count": 3,
      "outputs": [
        {
          "execution_count": 3,
          "output_type": "execute_result",
          "data": {
            "text/plain": "{'AC/DC', 'Back in Black', 'Thriller'}"
          },
          "metadata": {}
        }
      ]
    },
    {
      "cell_type": "markdown",
      "source": "__We can add an element to a set using the add() method:__",
      "metadata": {}
    },
    {
      "cell_type": "code",
      "source": "# Add element to set\n\nA.add(\"NSYNC\")\nA",
      "metadata": {
        "trusted": true
      },
      "execution_count": 4,
      "outputs": [
        {
          "execution_count": 4,
          "output_type": "execute_result",
          "data": {
            "text/plain": "{'AC/DC', 'Back in Black', 'NSYNC', 'Thriller'}"
          },
          "metadata": {}
        }
      ]
    },
    {
      "cell_type": "code",
      "source": "# Try to add duplicate element to the set\n\nA.add(\"NSYNC\")\nA",
      "metadata": {
        "trusted": true
      },
      "execution_count": 5,
      "outputs": [
        {
          "execution_count": 5,
          "output_type": "execute_result",
          "data": {
            "text/plain": "{'AC/DC', 'Back in Black', 'NSYNC', 'Thriller'}"
          },
          "metadata": {}
        }
      ]
    },
    {
      "cell_type": "markdown",
      "source": "Here we see no duplicate will exist in the set.",
      "metadata": {}
    },
    {
      "cell_type": "markdown",
      "source": "__We can remove an item from a set using the remove method:__",
      "metadata": {}
    },
    {
      "cell_type": "code",
      "source": "# Remove the element from set\n\nA.remove(\"NSYNC\")\nA",
      "metadata": {
        "trusted": true
      },
      "execution_count": 6,
      "outputs": [
        {
          "execution_count": 6,
          "output_type": "execute_result",
          "data": {
            "text/plain": "{'AC/DC', 'Back in Black', 'Thriller'}"
          },
          "metadata": {}
        }
      ]
    },
    {
      "cell_type": "markdown",
      "source": "__We can verify if an element is in the set using the in command:__",
      "metadata": {}
    },
    {
      "cell_type": "code",
      "source": "# Verify if the element is in the set\n\n\"AC/DC\" in A",
      "metadata": {
        "trusted": true
      },
      "execution_count": 7,
      "outputs": [
        {
          "execution_count": 7,
          "output_type": "execute_result",
          "data": {
            "text/plain": "True"
          },
          "metadata": {}
        }
      ]
    },
    {
      "cell_type": "markdown",
      "source": "__Sets Logic Operations__\n\nCheck the difference between sets, as well as the subset check, intersection, and union:",
      "metadata": {}
    },
    {
      "cell_type": "code",
      "source": "# Sample Sets\n\nalbum_set1 = set([\"Thriller\", 'AC/DC', 'Back in Black'])\nalbum_set2 = set([ \"AC/DC\", \"Back in Black\", \"The Dark Side of the Moon\"])",
      "metadata": {
        "trusted": true
      },
      "execution_count": 8,
      "outputs": []
    },
    {
      "cell_type": "code",
      "source": "# Print two sets\n\nalbum_set1, album_set2",
      "metadata": {
        "trusted": true
      },
      "execution_count": 9,
      "outputs": [
        {
          "execution_count": 9,
          "output_type": "execute_result",
          "data": {
            "text/plain": "({'AC/DC', 'Back in Black', 'Thriller'},\n {'AC/DC', 'Back in Black', 'The Dark Side of the Moon'})"
          },
          "metadata": {}
        }
      ]
    },
    {
      "cell_type": "markdown",
      "source": "__Intersect of two sets__ using &:",
      "metadata": {}
    },
    {
      "cell_type": "code",
      "source": "# Find the intersections\n\nintersection = album_set1 & album_set2\nintersection",
      "metadata": {
        "trusted": true
      },
      "execution_count": 10,
      "outputs": [
        {
          "execution_count": 10,
          "output_type": "execute_result",
          "data": {
            "text/plain": "{'AC/DC', 'Back in Black'}"
          },
          "metadata": {}
        }
      ]
    },
    {
      "cell_type": "markdown",
      "source": "'AC/DC', 'Back in Black'are items that exist in both sets hence the intersection.",
      "metadata": {}
    },
    {
      "cell_type": "markdown",
      "source": "__You can also find the intersection of two sets__ using the intersection method:",
      "metadata": {}
    },
    {
      "cell_type": "code",
      "source": "# Use intersection method to find the intersection of album_list1 and album_list2\n\nalbum_set1.intersection(album_set2)  ",
      "metadata": {
        "trusted": true
      },
      "execution_count": 13,
      "outputs": [
        {
          "execution_count": 13,
          "output_type": "execute_result",
          "data": {
            "text/plain": "{'AC/DC', 'Back in Black'}"
          },
          "metadata": {}
        }
      ]
    },
    {
      "cell_type": "markdown",
      "source": "__Finding all the elements that are only contained in one set__ using the difference method:",
      "metadata": {}
    },
    {
      "cell_type": "code",
      "source": "# Find the difference in album_set1 but not album_set2\n\nalbum_set1.difference(album_set2)  ",
      "metadata": {
        "trusted": true
      },
      "execution_count": 11,
      "outputs": [
        {
          "execution_count": 11,
          "output_type": "execute_result",
          "data": {
            "text/plain": "{'Thriller'}"
          },
          "metadata": {}
        }
      ]
    },
    {
      "cell_type": "markdown",
      "source": "You only need to consider elements in album_set1; all the elements in album_set2, including the intersection, are not included.",
      "metadata": {}
    },
    {
      "cell_type": "code",
      "source": "#The elements in album_set2 but not in album_set1 is given by:\nalbum_set2.difference(album_set1)",
      "metadata": {
        "trusted": true
      },
      "execution_count": 12,
      "outputs": [
        {
          "execution_count": 12,
          "output_type": "execute_result",
          "data": {
            "text/plain": "{'The Dark Side of the Moon'}"
          },
          "metadata": {}
        }
      ]
    },
    {
      "cell_type": "markdown",
      "source": "__Union corresponds to all the elements in both sets__ is given by using the union method:",
      "metadata": {}
    },
    {
      "cell_type": "code",
      "source": "# Find the union of two sets\n\nalbum_set1.union(album_set2)",
      "metadata": {
        "trusted": true
      },
      "execution_count": 14,
      "outputs": [
        {
          "execution_count": 14,
          "output_type": "execute_result",
          "data": {
            "text/plain": "{'AC/DC', 'Back in Black', 'The Dark Side of the Moon', 'Thriller'}"
          },
          "metadata": {}
        }
      ]
    },
    {
      "cell_type": "markdown",
      "source": "__Check if a set is a superset or subset of another set__ using the issuperset or issubset method:",
      "metadata": {}
    },
    {
      "cell_type": "code",
      "source": "# Check if superset\n\nset(album_set1).issuperset(album_set2)   ",
      "metadata": {
        "trusted": true
      },
      "execution_count": 15,
      "outputs": [
        {
          "execution_count": 15,
          "output_type": "execute_result",
          "data": {
            "text/plain": "False"
          },
          "metadata": {}
        }
      ]
    },
    {
      "cell_type": "code",
      "source": "# Check if subset\n\nset(album_set2).issubset(album_set1) ",
      "metadata": {
        "trusted": true
      },
      "execution_count": 16,
      "outputs": [
        {
          "execution_count": 16,
          "output_type": "execute_result",
          "data": {
            "text/plain": "False"
          },
          "metadata": {}
        }
      ]
    },
    {
      "cell_type": "markdown",
      "source": "Here is an example where issubset() and issuperset() return __true__:",
      "metadata": {}
    },
    {
      "cell_type": "code",
      "source": "# Check if subset\n\nset({\"Back in Black\", \"AC/DC\"}).issubset(album_set1) ",
      "metadata": {
        "trusted": true
      },
      "execution_count": 17,
      "outputs": [
        {
          "execution_count": 17,
          "output_type": "execute_result",
          "data": {
            "text/plain": "True"
          },
          "metadata": {}
        }
      ]
    },
    {
      "cell_type": "code",
      "source": "# Check if superset\n\nalbum_set1.issuperset({\"Back in Black\", \"AC/DC\"}) ",
      "metadata": {
        "trusted": true
      },
      "execution_count": 18,
      "outputs": [
        {
          "execution_count": 18,
          "output_type": "execute_result",
          "data": {
            "text/plain": "True"
          },
          "metadata": {}
        }
      ]
    },
    {
      "cell_type": "markdown",
      "source": "__Quiz on Sets__\n\nConvert the beats list ['rap','house','electronic music', 'rap'] to a set:",
      "metadata": {}
    },
    {
      "cell_type": "code",
      "source": "# Convert the beats list to set\nbeats_list = ['rap','house','electronic music', 'rap']\nbeats_set = set(beats_list)\nbeats_set",
      "metadata": {
        "trusted": true
      },
      "execution_count": 19,
      "outputs": [
        {
          "execution_count": 19,
          "output_type": "execute_result",
          "data": {
            "text/plain": "{'electronic music', 'house', 'rap'}"
          },
          "metadata": {}
        }
      ]
    },
    {
      "cell_type": "markdown",
      "source": "Consider the list A = [1, 2, 2, 1] and set B = set([1, 2, 2, 1]), does sum(A) = sum(B)?",
      "metadata": {}
    },
    {
      "cell_type": "code",
      "source": "# Evaluate\n\nA = [1, 2, 2, 1]  \nB = set([1, 2, 2, 1])",
      "metadata": {
        "trusted": true
      },
      "execution_count": 24,
      "outputs": []
    },
    {
      "cell_type": "code",
      "source": "print(\"the sum of A is:\", sum(A))",
      "metadata": {
        "trusted": true
      },
      "execution_count": 26,
      "outputs": [
        {
          "name": "stdout",
          "text": "the sum of A is: 6\n",
          "output_type": "stream"
        }
      ]
    },
    {
      "cell_type": "code",
      "source": "print(\"the sum of B is:\", sum(B))",
      "metadata": {
        "trusted": true
      },
      "execution_count": 25,
      "outputs": [
        {
          "name": "stdout",
          "text": "the sum of B is: 3\n",
          "output_type": "stream"
        }
      ]
    },
    {
      "cell_type": "markdown",
      "source": "They are not equal because the list A = [1, 2, 2, 1] can contain duplicate items which equals 6, but the set B = set([1, 2, 2, 1]) cannot as such set B([1, 2, 2, 1]) __is actually set B = {1, 2} which equals 3__",
      "metadata": {}
    },
    {
      "cell_type": "markdown",
      "source": "Create a new set album_set3 that is the union of album_set1 and album_set2:",
      "metadata": {}
    },
    {
      "cell_type": "code",
      "source": "# Print two sets\n\nalbum_set1, album_set2",
      "metadata": {
        "trusted": true
      },
      "execution_count": 28,
      "outputs": [
        {
          "execution_count": 28,
          "output_type": "execute_result",
          "data": {
            "text/plain": "({'AC/DC', 'Back in Black', 'Thriller'},\n {'AC/DC', 'Back in Black', 'The Dark Side of the Moon'})"
          },
          "metadata": {}
        }
      ]
    },
    {
      "cell_type": "code",
      "source": "# Create new album from the union of two old albums\n\nalbum_set3=album_set1.union(album_set2)\nalbum_set3",
      "metadata": {
        "trusted": true
      },
      "execution_count": 29,
      "outputs": [
        {
          "execution_count": 29,
          "output_type": "execute_result",
          "data": {
            "text/plain": "{'AC/DC', 'Back in Black', 'The Dark Side of the Moon', 'Thriller'}"
          },
          "metadata": {}
        }
      ]
    },
    {
      "cell_type": "markdown",
      "source": "Find out if album_set1 is a subset of album_set3:",
      "metadata": {}
    },
    {
      "cell_type": "code",
      "source": "set(album_set1).issubset(album_set3) ",
      "metadata": {
        "trusted": true
      },
      "execution_count": 30,
      "outputs": [
        {
          "execution_count": 30,
          "output_type": "execute_result",
          "data": {
            "text/plain": "True"
          },
          "metadata": {}
        }
      ]
    },
    {
      "cell_type": "markdown",
      "source": "or",
      "metadata": {}
    },
    {
      "cell_type": "code",
      "source": "album_set1.issubset(album_set3)",
      "metadata": {
        "trusted": true
      },
      "execution_count": 31,
      "outputs": [
        {
          "execution_count": 31,
          "output_type": "execute_result",
          "data": {
            "text/plain": "True"
          },
          "metadata": {}
        }
      ]
    },
    {
      "cell_type": "code",
      "source": "",
      "metadata": {},
      "execution_count": null,
      "outputs": []
    }
  ]
}