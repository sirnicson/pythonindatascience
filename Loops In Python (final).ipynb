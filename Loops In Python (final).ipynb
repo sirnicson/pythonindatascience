{
  "metadata": {
    "language_info": {
      "codemirror_mode": {
        "name": "python",
        "version": 3
      },
      "file_extension": ".py",
      "mimetype": "text/x-python",
      "name": "python",
      "nbconvert_exporter": "python",
      "pygments_lexer": "ipython3",
      "version": "3.8"
    },
    "kernelspec": {
      "name": "python",
      "display_name": "Python (Pyodide)",
      "language": "python"
    }
  },
  "nbformat_minor": 4,
  "nbformat": 4,
  "cells": [
    {
      "cell_type": "markdown",
      "source": "## Loops in Python",
      "metadata": {}
    },
    {
      "cell_type": "markdown",
      "source": "Sometimes, you might want to repeat a given operation many times. Repeated executions like this are performed by loops. We will look at two types of loops, for loops and while loops.",
      "metadata": {}
    },
    {
      "cell_type": "markdown",
      "source": "## Range\n\nBefore we discuss loops lets discuss the range object. It is helpful to think of the range object as an ordered list. \n\nFor now, let's look at the simplest case. If we would like to generate an object that contains elements ordered from 0 to 2 we simply use the following command:",
      "metadata": {}
    },
    {
      "cell_type": "code",
      "source": "range(3)",
      "metadata": {
        "trusted": true
      },
      "execution_count": 1,
      "outputs": [
        {
          "execution_count": 1,
          "output_type": "execute_result",
          "data": {
            "text/plain": "range(0, 3)"
          },
          "metadata": {}
        }
      ]
    },
    {
      "cell_type": "markdown",
      "source": "__The range()__ function returns a sequence of numbers, starting from 0 by default, and increments by 1 (by default), and stops before a specified number.",
      "metadata": {}
    },
    {
      "cell_type": "markdown",
      "source": "The syntax of the function is: range(start, stop, step)\n\n- __start__\tOptional. An integer number specifying at which position to start. Default is 0\n\n- __stop__\tRequired. An integer number specifying at which position to stop (not included)\n\n- __step__\tOptional. An integer number specifying the incrementation. Default is 1",
      "metadata": {}
    },
    {
      "cell_type": "code",
      "source": "#Example Create a sequence of numbers from 3 to 5, and print each item in the sequence:\nx = range(3, 6)\nfor n in x:\n    print(n)",
      "metadata": {
        "trusted": true
      },
      "execution_count": 4,
      "outputs": [
        {
          "name": "stdout",
          "text": "3\n4\n5\n",
          "output_type": "stream"
        }
      ]
    },
    {
      "cell_type": "code",
      "source": "#Example Create a sequence of numbers from 3 to 19, but increment by 2 instead of 1:\nx = range(3, 20, 2)\nfor n in x:\n    print(n)",
      "metadata": {
        "trusted": true
      },
      "execution_count": 5,
      "outputs": [
        {
          "name": "stdout",
          "text": "3\n5\n7\n9\n11\n13\n15\n17\n19\n",
          "output_type": "stream"
        }
      ]
    },
    {
      "cell_type": "markdown",
      "source": "## FOR Loop",
      "metadata": {}
    },
    {
      "cell_type": "markdown",
      "source": "A for loop is used for iterating over a sequence (that is either a list, a tuple, a dictionary, a set, or a string).\n\nWith the for loop we can execute a set of statements, once for each item in a list, tuple, set etc.",
      "metadata": {}
    },
    {
      "cell_type": "code",
      "source": "#Example Print each fruit in a fruit list:\nfruits = [\"apple\", \"banana\", \"cherry\"]\nfor x in fruits:\n    print(x)",
      "metadata": {
        "trusted": true
      },
      "execution_count": 6,
      "outputs": [
        {
          "name": "stdout",
          "text": "apple\nbanana\ncherry\n",
          "output_type": "stream"
        }
      ]
    },
    {
      "cell_type": "markdown",
      "source": "The for loop does not require an indexing variable to set beforehand.",
      "metadata": {}
    },
    {
      "cell_type": "markdown",
      "source": "__Looping Through a String__\n\nEven strings are iterable objects, they contain a sequence of characters:",
      "metadata": {}
    },
    {
      "cell_type": "code",
      "source": "#Example Loop through the letters in the word \"banana\":\nfor x in \"banana\":\n    print(x)",
      "metadata": {
        "trusted": true
      },
      "execution_count": 8,
      "outputs": [
        {
          "name": "stdout",
          "text": "b\na\nn\na\nn\na\n",
          "output_type": "stream"
        }
      ]
    },
    {
      "cell_type": "markdown",
      "source": "## The while Loop\n\nWith the while loop we can execute a set of statements as long as a condition is true.",
      "metadata": {}
    },
    {
      "cell_type": "code",
      "source": "#Example Print i as long as i is less than 6:\n\ni = 1\nwhile i < 6:\n    print(i)\n    i += 1",
      "metadata": {
        "trusted": true
      },
      "execution_count": 28,
      "outputs": [
        {
          "name": "stdout",
          "text": "1\n2\n3\n4\n5\n",
          "output_type": "stream"
        }
      ]
    },
    {
      "cell_type": "markdown",
      "source": "__Note: remember to increment i+=1, or else the loop will continue forever.__",
      "metadata": {}
    },
    {
      "cell_type": "markdown",
      "source": "## The break Statement\n\nWith the break statement we can stop the loop before it has looped through all the items:",
      "metadata": {}
    },
    {
      "cell_type": "code",
      "source": "#Example Exit the loop when x is \"banana\":\nfruits = [\"apple\", \"banana\", \"cherry\"]\nfor x in fruits:\n    print(x)\n    if x == \"banana\":\n        break",
      "metadata": {
        "trusted": true
      },
      "execution_count": 10,
      "outputs": [
        {
          "name": "stdout",
          "text": "apple\nbanana\n",
          "output_type": "stream"
        }
      ]
    },
    {
      "cell_type": "code",
      "source": "#Example Exit the loop when i is 3:\n\ni = 1\nwhile i < 6:\n    print(i)\n    if i == 3:\n        break\n    i += 1",
      "metadata": {
        "trusted": true
      },
      "execution_count": 29,
      "outputs": [
        {
          "name": "stdout",
          "text": "1\n2\n3\n",
          "output_type": "stream"
        }
      ]
    },
    {
      "cell_type": "markdown",
      "source": "In both examples the code runs in a sequence;\n- 1. It begins at x=0 and continues\n- 2. Within the for and while loop, there are if statement that presents the condition that if the variable number is equivalent to a set value (banana/3), then the loop will break.\n",
      "metadata": {}
    },
    {
      "cell_type": "markdown",
      "source": "## The continue Statement\n\nWith the continue statement we can stop the current iteration of the loop, and continue with the next:",
      "metadata": {}
    },
    {
      "cell_type": "code",
      "source": "#Example Do not print banana:\n\nfruits = [\"apple\", \"banana\", \"cherry\"]\nfor x in fruits:\n    if x == \"banana\":\n        continue\n    print(x)",
      "metadata": {
        "trusted": true
      },
      "execution_count": 15,
      "outputs": [
        {
          "name": "stdout",
          "text": "apple\ncherry\n",
          "output_type": "stream"
        }
      ]
    },
    {
      "cell_type": "markdown",
      "source": "## Else in For Loop\n\nThe else keyword in a for loop specifies a block of code to be executed when the loop is finished:",
      "metadata": {}
    },
    {
      "cell_type": "code",
      "source": "#Example Print all numbers from 0 to 5, and print a message when the loop has ended:\n\nfor x in range(6):\n    print(x)\nelse:\n    print(\"Finally finished!\")",
      "metadata": {
        "tags": [],
        "trusted": true
      },
      "execution_count": 16,
      "outputs": [
        {
          "name": "stdout",
          "text": "0\n1\n2\n3\n4\n5\nFinally finished!\n",
          "output_type": "stream"
        }
      ]
    },
    {
      "cell_type": "markdown",
      "source": "__Note: The else block will NOT be executed if the loop is stopped by a break statement.__",
      "metadata": {
        "tags": []
      }
    },
    {
      "cell_type": "code",
      "source": "#Example Break the loop when x is 3, and see what happens with the else block:\n\nfor x in range(6):\n    if x == 3:\n        break\n    print(x)\nelse:\n    print(\"Finally finished!\")",
      "metadata": {
        "trusted": true
      },
      "execution_count": 20,
      "outputs": [
        {
          "name": "stdout",
          "text": "0\n1\n2\n",
          "output_type": "stream"
        }
      ]
    },
    {
      "cell_type": "markdown",
      "source": "## Nested Loops\nA nested loop is a loop inside a loop.\n\nThe \"inner loop\" will be executed one time for each iteration of the \"outer loop\":",
      "metadata": {}
    },
    {
      "cell_type": "code",
      "source": "#Example Print each adjective for every fruit:\n\nadj = [\"red\", \"big\", \"tasty\"]\nfruits = [\"apple\", \"banana\", \"cherry\"]\n\nfor x in adj:\n    for y in fruits:\n        print(x, y)",
      "metadata": {
        "trusted": true
      },
      "execution_count": 23,
      "outputs": [
        {
          "name": "stdout",
          "text": "red apple\nred banana\nred cherry\nbig apple\nbig banana\nbig cherry\ntasty apple\ntasty banana\ntasty cherry\n",
          "output_type": "stream"
        }
      ]
    },
    {
      "cell_type": "markdown",
      "source": "## The pass Statement\n\n\nfor loops cannot be empty, but if you for some reason have a for loop with no content, put in the pass statement to avoid getting an error.",
      "metadata": {}
    },
    {
      "cell_type": "code",
      "source": "for x in [0, 1, 2]:\n    pass",
      "metadata": {
        "trusted": true
      },
      "execution_count": 24,
      "outputs": []
    },
    {
      "cell_type": "code",
      "source": "",
      "metadata": {},
      "execution_count": null,
      "outputs": []
    },
    {
      "cell_type": "markdown",
      "source": "## More Examples",
      "metadata": {}
    },
    {
      "cell_type": "code",
      "source": "# Use for loop to change the elements in list\n\nsquares = ['red', 'yellow', 'green', 'purple', 'blue']\n\nfor i in range(0, 5):\n    print(\"Before square \", i, 'is',  squares[i])\n    squares[i] = 'white'\n    print(\"After square \", i, 'is',  squares[i])",
      "metadata": {
        "trusted": true
      },
      "execution_count": 25,
      "outputs": [
        {
          "name": "stdout",
          "text": "Before square  0 is red\nAfter square  0 is white\nBefore square  1 is yellow\nAfter square  1 is white\nBefore square  2 is green\nAfter square  2 is white\nBefore square  3 is purple\nAfter square  3 is white\nBefore square  4 is blue\nAfter square  4 is white\n",
          "output_type": "stream"
        }
      ]
    },
    {
      "cell_type": "code",
      "source": "# Loop through the list and iterate on both index and element value\n\nsquares=['red', 'yellow', 'green', 'purple', 'blue']\n\nfor i, square in enumerate(squares):\n    print(i, square)",
      "metadata": {
        "trusted": true
      },
      "execution_count": 26,
      "outputs": [
        {
          "name": "stdout",
          "text": "0 red\n1 yellow\n2 green\n3 purple\n4 blue\n",
          "output_type": "stream"
        }
      ]
    },
    {
      "cell_type": "code",
      "source": "# Loop through the list dates and exit at the year 1973\n\ndates = [1982, 1980, 1973, 2000]\n\nfor x in dates:\n    print(x)\n    if x == 1973:\n        break",
      "metadata": {
        "trusted": true
      },
      "execution_count": 30,
      "outputs": [
        {
          "name": "stdout",
          "text": "1982\n1980\n1973\n",
          "output_type": "stream"
        }
      ]
    },
    {
      "cell_type": "code",
      "source": "dates = [1982, 1980, 1973, 2000]\n\ni = 0\nyear = dates[0]\n\nwhile(year != 1973):    \n    print(year)\n    i = i + 1\n    year = dates[i]\n    \n\nprint(\"It took \", i ,\"repetitions to get out of loop.\")",
      "metadata": {
        "trusted": true
      },
      "execution_count": 1,
      "outputs": [
        {
          "name": "stdout",
          "text": "1982\n1980\nIt took  2 repetitions to get out of loop.\n",
          "output_type": "stream"
        }
      ]
    },
    {
      "cell_type": "code",
      "source": "#Loop through list dates and stop at the year 1973, then print out the number of iterations.\n\ndates = [1982, 1980, 1973, 2000]\n\n#constant k\nk=0\n\n#new list []\nyear = dates[0]\n\n#while loop condition\nwhile year !=1973:\n    print(year)\n    k=k+1\n    year=dates[k]\n    \n#Outside the loop print final count of iteration\nprint('It took', k, 'successful iterations to get out of the loop')\n",
      "metadata": {
        "trusted": true
      },
      "execution_count": 4,
      "outputs": [
        {
          "name": "stdout",
          "text": "1982\n1980\nIt took 2 successful iterations to get out of the loop\n",
          "output_type": "stream"
        }
      ]
    },
    {
      "cell_type": "markdown",
      "source": "## Practise Exercises on Loops",
      "metadata": {}
    },
    {
      "cell_type": "markdown",
      "source": "Write a for loop the prints out all the element between -5 and 5 using the range function.",
      "metadata": {}
    },
    {
      "cell_type": "code",
      "source": "for x in range(-4,5):\n    print (x)",
      "metadata": {
        "trusted": true
      },
      "execution_count": 6,
      "outputs": [
        {
          "name": "stdout",
          "text": "-4\n-3\n-2\n-1\n0\n1\n2\n3\n4\n",
          "output_type": "stream"
        }
      ]
    },
    {
      "cell_type": "markdown",
      "source": "Print the elements of the following list: Genres=[ 'rock', 'R&B', 'Soundtrack', 'R&B', 'soul', 'pop'] \n\nMake sure you follow Python conventions.",
      "metadata": {}
    },
    {
      "cell_type": "code",
      "source": "genres=[ 'rock', 'R&B', 'Soundtrack', 'R&B', 'soul', 'pop']\nfor genre in genres:\n    print (genre)",
      "metadata": {
        "trusted": true
      },
      "execution_count": 7,
      "outputs": [
        {
          "name": "stdout",
          "text": "rock\nR&B\nSoundtrack\nR&B\nsoul\npop\n",
          "output_type": "stream"
        }
      ]
    },
    {
      "cell_type": "markdown",
      "source": "Write a for loop that prints out the following list: squares=['red', 'yellow', 'green', 'purple', 'blue']",
      "metadata": {}
    },
    {
      "cell_type": "code",
      "source": "squares=['red', 'yellow', 'green', 'purple', 'blue']\nfor square in squares:\n    print(square)",
      "metadata": {
        "trusted": true
      },
      "execution_count": 8,
      "outputs": [
        {
          "name": "stdout",
          "text": "red\nyellow\ngreen\npurple\nblue\n",
          "output_type": "stream"
        }
      ]
    },
    {
      "cell_type": "markdown",
      "source": "Write a while loop to display the values of the Rating of an album playlist stored in the list PlayListRatings. \n\nIf the score is less than 6, exit the loop. \n\nThe list PlayListRatings is given by: PlayListRatings = [10, 9.5, 10, 8, 7.5, 5, 10, 10]",
      "metadata": {}
    },
    {
      "cell_type": "code",
      "source": "playlistratings = [10, 9.5, 10, 8, 7.5, 5, 10, 10]\nk=0\nscore=playlistratings[0]\nwhile score>=6:\n    print(score)\n    if score<6:\n        break\n    score=playlistratings[k]\n    k=k+1",
      "metadata": {
        "trusted": true
      },
      "execution_count": 10,
      "outputs": [
        {
          "name": "stdout",
          "text": "10\n10\n9.5\n10\n8\n7.5\n",
          "output_type": "stream"
        }
      ]
    },
    {
      "cell_type": "markdown",
      "source": "## THE PLAYLIST RATINGS CODE IS MY FIRST PYTHON CODE I INDEPENDENTLY WORKED FROM MY BRAIN. NO COPY..JUST ORDED THINKING.\n\nAnd the is no Error!!! Yippey!!!",
      "metadata": {}
    },
    {
      "cell_type": "markdown",
      "source": "Write a while loop to copy the strings 'orange' of the list colours to the list citrus. \n\nStop and exit the loop if the value on the list is not 'orange':",
      "metadata": {}
    },
    {
      "cell_type": "code",
      "source": "colours=['orange', 'orange', 'orange', 'red', 'blue', 'orange']\ncitrus=[]\nk=0\nwhile colours[k] == 'orange':\n    print(citrus.append(colours[k]))\n    k=k+1\nprint('It took', k, 'turns to exit loop')\n\nprint(citrus)",
      "metadata": {
        "trusted": true
      },
      "execution_count": 25,
      "outputs": [
        {
          "name": "stdout",
          "text": "None\nNone\nNone\nIt took 3 turns to exit loop\n['orange', 'orange', 'orange']\n",
          "output_type": "stream"
        }
      ]
    },
    {
      "cell_type": "code",
      "source": "squares = ['orange', 'orange', 'purple', 'blue ', 'orange']\nnew_squares = []\ni = 0\nwhile(i < len(squares) and squares[i] == 'orange'):\n    new_squares.append(squares[i])\n    i = i + 1\nprint (new_squares)",
      "metadata": {
        "trusted": true
      },
      "execution_count": 16,
      "outputs": [
        {
          "name": "stdout",
          "text": "['orange', 'orange']\n",
          "output_type": "stream"
        }
      ]
    },
    {
      "cell_type": "markdown",
      "source": "## Some real-life problems!\n\nYour little brother has just learned multiplication tables in school. \n\nToday he has learned tables of 6 and 7. \n\nHelp him memorise both the tables by printing them using for loop.",
      "metadata": {}
    },
    {
      "cell_type": "code",
      "source": "#Multiplication table of 6\nk=6\nfor x in range(1,11):\n    print(x,'*', k, '=', x*k)\n    k=k+0",
      "metadata": {
        "trusted": true
      },
      "execution_count": 30,
      "outputs": [
        {
          "name": "stdout",
          "text": "1 * 6 = 6\n2 * 6 = 12\n3 * 6 = 18\n4 * 6 = 24\n5 * 6 = 30\n6 * 6 = 36\n7 * 6 = 42\n8 * 6 = 48\n9 * 6 = 54\n10 * 6 = 60\n",
          "output_type": "stream"
        }
      ]
    },
    {
      "cell_type": "markdown",
      "source": "Constant k is kept at 0 to produce a multiplication table of constant 6 at every increment of integer x",
      "metadata": {}
    },
    {
      "cell_type": "code",
      "source": "#Multiplication Table of 7\nk=7\nfor x in range(1,11):\n    print(x,'*', k, '=', x*k)\n    k=k+0",
      "metadata": {
        "trusted": true
      },
      "execution_count": 31,
      "outputs": [
        {
          "name": "stdout",
          "text": "1 * 7 = 7\n2 * 7 = 14\n3 * 7 = 21\n4 * 7 = 28\n5 * 7 = 35\n6 * 7 = 42\n7 * 7 = 49\n8 * 7 = 56\n9 * 7 = 63\n10 * 7 = 70\n",
          "output_type": "stream"
        }
      ]
    },
    {
      "cell_type": "markdown",
      "source": "The following is a list of animals in a National Zoo. \n\nAnimals = [\"lion\", \"giraffe\", \"gorilla\", \"parrots\", \"crocodile\",\"deer\", \"swan\"]\n\nYour brother needs to write an essay on the animals whose names are made of 7 letters. \n\nHelp him find those animals through a while loop and create a separate list of such animals.",
      "metadata": {}
    },
    {
      "cell_type": "code",
      "source": "Animals = [\"lion\", \"giraffe\", \"gorilla\", \"parrots\", \"crocodile\",\"deer\", \"swan\"]\nNew = []\ni=0\nwhile i<len(Animals):\n    j=Animals[i]\n    if(len(j)==7):\n        New.append(j)\n    i=i+1\nprint(New)",
      "metadata": {
        "trusted": true
      },
      "execution_count": 1,
      "outputs": [
        {
          "name": "stdout",
          "text": "['giraffe', 'gorilla', 'parrots']\n",
          "output_type": "stream"
        }
      ]
    },
    {
      "cell_type": "markdown",
      "source": "My rendetion",
      "metadata": {}
    },
    {
      "cell_type": "code",
      "source": "animals = [\"lion\", \"giraffe\", \"gorilla\", \"parrots\", \"crocodile\",\"deer\", \"swan\"]\nk=0\nNew = []\nwhile k<len(animals):\n    j=animals[k]\n    if(len(j)==7):\n        New.append(j)\n    k=k+1\nprint(New)",
      "metadata": {
        "trusted": true
      },
      "execution_count": 2,
      "outputs": [
        {
          "name": "stdout",
          "text": "['giraffe', 'gorilla', 'parrots']\n",
          "output_type": "stream"
        }
      ]
    },
    {
      "cell_type": "markdown",
      "source": "Help him find four lettered animals through a while loop and create a separate list of such animals.",
      "metadata": {}
    },
    {
      "cell_type": "code",
      "source": "animals = [\"lion\", \"giraffe\", \"gorilla\", \"parrots\", \"crocodile\",\"deer\", \"swan\"]\nk=0\nnew=[]\n\nwhile k<len(animals):\n    j=animals[k]\n    if len(j) ==4:\n        new.append(j)\n    k=k+1\nprint(new)",
      "metadata": {
        "trusted": true
      },
      "execution_count": 9,
      "outputs": [
        {
          "name": "stdout",
          "text": "['lion', 'deer', 'swan']\n",
          "output_type": "stream"
        }
      ]
    },
    {
      "cell_type": "markdown",
      "source": "Help him find animals with letters greater than 7 through a while loop and create a separate list of such animals.",
      "metadata": {}
    },
    {
      "cell_type": "code",
      "source": "animals = [\"lion\", \"giraffe\", \"gorilla\", \"parrots\", \"crocodile\",\"deer\", \"swan\"]\nk=0\nnewG=[]\n\nwhile k<len(animals):\n    j=animals[k]\n    if len(j) > 7:\n        newG.append(j)\n    k=k+1\nprint(newG)",
      "metadata": {
        "trusted": true
      },
      "execution_count": 12,
      "outputs": [
        {
          "name": "stdout",
          "text": "['crocodile']\n",
          "output_type": "stream"
        }
      ]
    },
    {
      "cell_type": "code",
      "source": "",
      "metadata": {},
      "execution_count": null,
      "outputs": []
    }
  ]
}