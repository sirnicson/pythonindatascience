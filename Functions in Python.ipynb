{
  "metadata": {
    "language_info": {
      "codemirror_mode": {
        "name": "python",
        "version": 3
      },
      "file_extension": ".py",
      "mimetype": "text/x-python",
      "name": "python",
      "nbconvert_exporter": "python",
      "pygments_lexer": "ipython3",
      "version": "3.8"
    },
    "kernelspec": {
      "name": "python",
      "display_name": "Python (Pyodide)",
      "language": "python"
    }
  },
  "nbformat_minor": 4,
  "nbformat": 4,
  "cells": [
    {
      "cell_type": "markdown",
      "source": "## FUNCTIONS IN PYTHON",
      "metadata": {}
    },
    {
      "cell_type": "markdown",
      "source": "A function is a block of code which only runs when it is called.\n\nYou can pass data, known as parameters, into a function.\n\nA function can return data as a result.\n\nThere are two types of functions :\n\n*   <b>Pre-defined functions</b>\n*   <b>User defined functions</b>\n",
      "metadata": {}
    },
    {
      "cell_type": "markdown",
      "source": "You can define functions to provide the required functionality. Here are simple rules to define a function in Python:\n\n*   Functions blocks begin <code>def</code> followed by the function <code>name</code> and parentheses <code>()</code>.\n*   There are input parameters or arguments that should be placed within these parentheses.\n*   You can also define parameters inside these parentheses.\n*   There is a body within every function that starts with a colon (<code>:</code>) and is indented.\n*   You can also place documentation before the body.\n*   The statement <code>return</code> exits a function, optionally passing back a value.\n\n",
      "metadata": {}
    },
    {
      "cell_type": "code",
      "source": "#define a function\n\ndef my_function():\n    print(\"Hello from a function\")",
      "metadata": {
        "trusted": true
      },
      "execution_count": 3,
      "outputs": []
    },
    {
      "cell_type": "code",
      "source": "#Calling a Function To call a function, use the function name followed by parenthesis:\n\nmy_function()",
      "metadata": {
        "trusted": true
      },
      "execution_count": 4,
      "outputs": [
        {
          "name": "stdout",
          "text": "Hello from a function\n",
          "output_type": "stream"
        }
      ]
    },
    {
      "cell_type": "code",
      "source": "#Create function that adds 1 to a and stores result as b\n\ndef add(a):\n    \"\"\"\n    add 1 to a\n    \"\"\"\n    b = a + 1\n    print(\"You have added\", a, \"and returned\", b)\n    return(b)",
      "metadata": {
        "trusted": true
      },
      "execution_count": 12,
      "outputs": []
    },
    {
      "cell_type": "markdown",
      "source": "Call the function add(a) where a = any number you want to add",
      "metadata": {}
    },
    {
      "cell_type": "code",
      "source": "add(1)",
      "metadata": {
        "trusted": true
      },
      "execution_count": 13,
      "outputs": [
        {
          "name": "stdout",
          "text": "You have added 1 and returned 2\n",
          "output_type": "stream"
        },
        {
          "execution_count": 13,
          "output_type": "execute_result",
          "data": {
            "text/plain": "2"
          },
          "metadata": {}
        }
      ]
    },
    {
      "cell_type": "code",
      "source": "add(3)",
      "metadata": {
        "trusted": true
      },
      "execution_count": 14,
      "outputs": [
        {
          "name": "stdout",
          "text": "You have added 3 and returned 4\n",
          "output_type": "stream"
        },
        {
          "execution_count": 14,
          "output_type": "execute_result",
          "data": {
            "text/plain": "4"
          },
          "metadata": {}
        }
      ]
    },
    {
      "cell_type": "code",
      "source": "add(50)",
      "metadata": {
        "trusted": true
      },
      "execution_count": 15,
      "outputs": [
        {
          "name": "stdout",
          "text": "You have added 50 and returned 51\n",
          "output_type": "stream"
        },
        {
          "execution_count": 15,
          "output_type": "execute_result",
          "data": {
            "text/plain": "51"
          },
          "metadata": {}
        }
      ]
    },
    {
      "cell_type": "markdown",
      "source": "Call for help on a fuction",
      "metadata": {}
    },
    {
      "cell_type": "code",
      "source": "help(add)",
      "metadata": {
        "trusted": true
      },
      "execution_count": 16,
      "outputs": [
        {
          "name": "stdout",
          "text": "Help on function add in module __main__:\n\nadd(a)\n    add 1 to a\n\n",
          "output_type": "stream"
        }
      ]
    },
    {
      "cell_type": "code",
      "source": "# Define a function for multiple two numbers\n\ndef Mult(a, b):\n    c = a * b\n    print('You have multiplied', a, 'and', b, 'and returned', c)\n    return(c)\n    ",
      "metadata": {
        "trusted": true
      },
      "execution_count": 22,
      "outputs": []
    },
    {
      "cell_type": "code",
      "source": "Mult(2, 3)",
      "metadata": {
        "trusted": true
      },
      "execution_count": 23,
      "outputs": [
        {
          "name": "stdout",
          "text": "You have multiplied 2 and 3 and returned 6\n",
          "output_type": "stream"
        },
        {
          "execution_count": 23,
          "output_type": "execute_result",
          "data": {
            "text/plain": "6"
          },
          "metadata": {}
        }
      ]
    },
    {
      "cell_type": "code",
      "source": "Mult(100,21)",
      "metadata": {
        "trusted": true
      },
      "execution_count": 24,
      "outputs": [
        {
          "name": "stdout",
          "text": "You have multiplied 100 and 21 and returned 2100\n",
          "output_type": "stream"
        },
        {
          "execution_count": 24,
          "output_type": "execute_result",
          "data": {
            "text/plain": "2100"
          },
          "metadata": {}
        }
      ]
    },
    {
      "cell_type": "code",
      "source": "Mult(11,11)",
      "metadata": {
        "trusted": true
      },
      "execution_count": 25,
      "outputs": [
        {
          "name": "stdout",
          "text": "You have multiplied 11 and 11 and returned 121\n",
          "output_type": "stream"
        },
        {
          "execution_count": 25,
          "output_type": "execute_result",
          "data": {
            "text/plain": "121"
          },
          "metadata": {}
        }
      ]
    },
    {
      "cell_type": "markdown",
      "source": "Note how the function terminates at the  return  statement, while passing back a value. This value can be further assigned to a different variable as desired.",
      "metadata": {}
    },
    {
      "cell_type": "markdown",
      "source": "### The same function can be used for different data types. For example:",
      "metadata": {}
    },
    {
      "cell_type": "code",
      "source": "#Two floats\n\nMult(10.0, 3.14)",
      "metadata": {
        "trusted": true
      },
      "execution_count": 26,
      "outputs": [
        {
          "name": "stdout",
          "text": "You have multiplied 10.0 and 3.14 and returned 31.400000000000002\n",
          "output_type": "stream"
        },
        {
          "execution_count": 26,
          "output_type": "execute_result",
          "data": {
            "text/plain": "31.400000000000002"
          },
          "metadata": {}
        }
      ]
    },
    {
      "cell_type": "code",
      "source": "#Multiply two different type values together\n\nMult(2, \"Michael Jackson \")",
      "metadata": {
        "trusted": true
      },
      "execution_count": 27,
      "outputs": [
        {
          "name": "stdout",
          "text": "You have multiplied 2 and Michael Jackson  and returned Michael Jackson Michael Jackson \n",
          "output_type": "stream"
        },
        {
          "execution_count": 27,
          "output_type": "execute_result",
          "data": {
            "text/plain": "'Michael Jackson Michael Jackson '"
          },
          "metadata": {}
        }
      ]
    },
    {
      "cell_type": "markdown",
      "source": "Strings double in word rather than mathematically.",
      "metadata": {}
    },
    {
      "cell_type": "markdown",
      "source": "## Variables\n\nThe input to a function is called a formal parameter.\n\nA variable that is declared inside a function is called a local variable. The parameter only exists within the function (i.e. the point where the function starts and stops).\n\nA variable that is declared outside a function definition is a global variable, and its value is accessible and modifiable throughout the program.",
      "metadata": {
        "tags": []
      }
    },
    {
      "cell_type": "code",
      "source": "# Function Definition\n\ndef square(a): #formal parameter (a):\n    \n    b = 1   #Local variable b\n    c = a * a + b\n    print(a, \"You have squared\", a, \"and added 1\", \"to return\", c,'......' 'that is', a,'*', a,'+',1, '=',c)\n    return(c)",
      "metadata": {
        "trusted": true
      },
      "execution_count": 46,
      "outputs": []
    },
    {
      "cell_type": "code",
      "source": "# Initializes Global variable  \n\nx = 3 #Global variable\n\n# Makes function call and return function a y\ny = square(x)",
      "metadata": {
        "tags": [],
        "trusted": true
      },
      "execution_count": 47,
      "outputs": [
        {
          "name": "stdout",
          "text": "3 You have squared 3 and added 1 to return 10 ......that is 3 * 3 + 1 = 10\n",
          "output_type": "stream"
        }
      ]
    },
    {
      "cell_type": "code",
      "source": "x=10\nsquare(x)",
      "metadata": {
        "trusted": true
      },
      "execution_count": 48,
      "outputs": [
        {
          "name": "stdout",
          "text": "10 You have squared 10 and added 1 to return 101 ......that is 10 * 10 + 1 = 101\n",
          "output_type": "stream"
        },
        {
          "execution_count": 48,
          "output_type": "execute_result",
          "data": {
            "text/plain": "101"
          },
          "metadata": {}
        }
      ]
    },
    {
      "cell_type": "code",
      "source": "e=43\nsquare(e)",
      "metadata": {
        "trusted": true
      },
      "execution_count": 49,
      "outputs": [
        {
          "name": "stdout",
          "text": "43 You have squared 43 and added 1 to return 1850 ......that is 43 * 43 + 1 = 1850\n",
          "output_type": "stream"
        },
        {
          "execution_count": 49,
          "output_type": "execute_result",
          "data": {
            "text/plain": "1850"
          },
          "metadata": {}
        }
      ]
    },
    {
      "cell_type": "markdown",
      "source": "If there is no return statement, the function returns None. The following two functions are equivalent:",
      "metadata": {}
    },
    {
      "cell_type": "code",
      "source": "# Define functions, one with return value None and other without return value\n\ndef MJ():\n    print('Michael Jackson')\n    \ndef MJ1():\n    print('Michael Jackson')\n    return(None)",
      "metadata": {
        "trusted": true
      },
      "execution_count": 50,
      "outputs": []
    },
    {
      "cell_type": "code",
      "source": "#Call functions\nMJ()",
      "metadata": {
        "trusted": true
      },
      "execution_count": 51,
      "outputs": [
        {
          "name": "stdout",
          "text": "Michael Jackson\n",
          "output_type": "stream"
        }
      ]
    },
    {
      "cell_type": "code",
      "source": "#Call functions\nMJ1()",
      "metadata": {
        "trusted": true
      },
      "execution_count": 53,
      "outputs": [
        {
          "name": "stdout",
          "text": "Michael Jackson\n",
          "output_type": "stream"
        }
      ]
    },
    {
      "cell_type": "markdown",
      "source": "Returning a None value",
      "metadata": {}
    },
    {
      "cell_type": "code",
      "source": "print(MJ())\nprint(MJ1())",
      "metadata": {
        "trusted": true
      },
      "execution_count": 54,
      "outputs": [
        {
          "name": "stdout",
          "text": "Michael Jackson\nNone\nMichael Jackson\nNone\n",
          "output_type": "stream"
        }
      ]
    },
    {
      "cell_type": "markdown",
      "source": "Create a function con that concatenates two strings using the addition operation:",
      "metadata": {
        "tags": []
      }
    },
    {
      "cell_type": "code",
      "source": "# Define the function for combining strings\n\ndef con(a, b):\n    return(a + b)",
      "metadata": {
        "trusted": true
      },
      "execution_count": 55,
      "outputs": []
    },
    {
      "cell_type": "code",
      "source": "# Test con() function\n\ncon(\"This \", \"is\")",
      "metadata": {
        "trusted": true
      },
      "execution_count": 56,
      "outputs": [
        {
          "execution_count": 56,
          "output_type": "execute_result",
          "data": {
            "text/plain": "'This is'"
          },
          "metadata": {}
        }
      ]
    },
    {
      "cell_type": "code",
      "source": "con('After this lab on Functions',' I will like to take my drugs shower and watch some Disney')",
      "metadata": {
        "trusted": true
      },
      "execution_count": 62,
      "outputs": [
        {
          "execution_count": 62,
          "output_type": "execute_result",
          "data": {
            "text/plain": "'After this lab on Functions I will like to take my drugs shower and watch some Disney'"
          },
          "metadata": {}
        }
      ]
    },
    {
      "cell_type": "markdown",
      "source": "### Functions Make Things Simple",
      "metadata": {}
    },
    {
      "cell_type": "markdown",
      "source": "Block 1",
      "metadata": {}
    },
    {
      "cell_type": "code",
      "source": "# a and b calculation block1\n\na1 = 4\nb1 = 5\nc1 = a1 + b1 + 2 * a1 * b1 - 1\nif(c1 < 0):\n    c1 = 0 \nelse:\n    c1 = 5\nc1  ",
      "metadata": {
        "trusted": true
      },
      "execution_count": 63,
      "outputs": [
        {
          "execution_count": 63,
          "output_type": "execute_result",
          "data": {
            "text/plain": "5"
          },
          "metadata": {}
        }
      ]
    },
    {
      "cell_type": "markdown",
      "source": "Block 2",
      "metadata": {}
    },
    {
      "cell_type": "code",
      "source": "# a and b calculation block2\n\na2 = 0\nb2 = 0\nc2 = a2 + b2 + 2 * a2 * b2 - 1\nif(c2 < 0):\n    c2 = 0 \nelse:\n    c2 = 5\nc2   ",
      "metadata": {
        "trusted": true
      },
      "execution_count": 64,
      "outputs": [
        {
          "execution_count": 64,
          "output_type": "execute_result",
          "data": {
            "text/plain": "0"
          },
          "metadata": {}
        }
      ]
    },
    {
      "cell_type": "markdown",
      "source": "We can replace the lines of code with a function. \n\nA function combines many instructions into a single line of code. \n\nOnce a function is defined, it can be used repeatedly. You can invoke the same function many times in your program. \n\nYou can save your function and use it in another program or use someone else’s function. \n\n__The lines of code in code Block 1 and code Block 2 can be replaced by the following function:__",
      "metadata": {}
    },
    {
      "cell_type": "code",
      "source": "def Equation(a,b):\n    c = a + b + 2 * a * b - 1\n    if(c < 0):\n        c = 0 \n    else:\n        c = 5\n    return(c)",
      "metadata": {
        "trusted": true
      },
      "execution_count": 65,
      "outputs": []
    },
    {
      "cell_type": "markdown",
      "source": "Code Blocks 1 and Block 2 can now be replaced with code Block 3 and code Block 4.",
      "metadata": {}
    },
    {
      "cell_type": "code",
      "source": "#Block 3:\na1 = 4\nb1 = 5\nc1 = Equation(a1, b1)\nc1",
      "metadata": {
        "trusted": true
      },
      "execution_count": 66,
      "outputs": [
        {
          "execution_count": 66,
          "output_type": "execute_result",
          "data": {
            "text/plain": "5"
          },
          "metadata": {}
        }
      ]
    },
    {
      "cell_type": "code",
      "source": "#Block 4:\na2 = 0\nb2 = 0\nc2 = Equation(a2, b2)\nc2",
      "metadata": {
        "trusted": true
      },
      "execution_count": 67,
      "outputs": [
        {
          "execution_count": 67,
          "output_type": "execute_result",
          "data": {
            "text/plain": "0"
          },
          "metadata": {}
        }
      ]
    },
    {
      "cell_type": "markdown",
      "source": "#### Pre-defined functions",
      "metadata": {}
    },
    {
      "cell_type": "code",
      "source": "#The print() function:\n\nalbum_ratings = [10.0, 8.5, 9.5, 7.0, 7.0, 9.5, 9.0, 9.5] \nprint(album_ratings)",
      "metadata": {
        "trusted": true
      },
      "execution_count": 68,
      "outputs": [
        {
          "name": "stdout",
          "text": "[10.0, 8.5, 9.5, 7.0, 7.0, 9.5, 9.0, 9.5]\n",
          "output_type": "stream"
        }
      ]
    },
    {
      "cell_type": "code",
      "source": "#The sum() function\nsum(album_ratings)",
      "metadata": {
        "trusted": true
      },
      "execution_count": 69,
      "outputs": [
        {
          "execution_count": 69,
          "output_type": "execute_result",
          "data": {
            "text/plain": "70.0"
          },
          "metadata": {}
        }
      ]
    },
    {
      "cell_type": "code",
      "source": "#The len() function\nlen(album_ratings)",
      "metadata": {
        "trusted": true
      },
      "execution_count": 70,
      "outputs": [
        {
          "execution_count": 70,
          "output_type": "execute_result",
          "data": {
            "text/plain": "8"
          },
          "metadata": {}
        }
      ]
    },
    {
      "cell_type": "markdown",
      "source": "# Using if/else Statements and Loops in Functions",
      "metadata": {}
    },
    {
      "cell_type": "markdown",
      "source": "### The return() function \n\nis particularly useful if you have any IF statements in the function, when you want your output to be dependent on some condition:",
      "metadata": {}
    },
    {
      "cell_type": "code",
      "source": "def type_of_album(artist, album, year_released):\n    \n    print(artist, album, year_released)\n    if year_released > 1980:\n        return \"Modern\"\n    else:\n        return \"Oldie\"",
      "metadata": {
        "trusted": true
      },
      "execution_count": 71,
      "outputs": []
    },
    {
      "cell_type": "code",
      "source": "#Call function\nx = type_of_album(\"Michael Jackson\", \"Thriller\", 1980)\nprint(x)",
      "metadata": {
        "trusted": true
      },
      "execution_count": 72,
      "outputs": [
        {
          "name": "stdout",
          "text": "Michael Jackson Thriller 1980\nOldie\n",
          "output_type": "stream"
        }
      ]
    },
    {
      "cell_type": "code",
      "source": "#Call function\nx = type_of_album(\"2 Face\", \"African Queen\", 2001)\nprint(x)",
      "metadata": {
        "trusted": true
      },
      "execution_count": 73,
      "outputs": [
        {
          "name": "stdout",
          "text": "2 Face African Queen 2001\nModern\n",
          "output_type": "stream"
        }
      ]
    },
    {
      "cell_type": "markdown",
      "source": "### We can use a loop in a function by defining a function(). For example, we can print out each element in a list:",
      "metadata": {}
    },
    {
      "cell_type": "code",
      "source": "# Print the list using for loop\n\ndef PrintList(the_list):\n    for element in the_list:\n        print(element)",
      "metadata": {
        "trusted": true
      },
      "execution_count": 74,
      "outputs": []
    },
    {
      "cell_type": "code",
      "source": "#Implement the printlist function\ncolours=['orange', 'red', 'red', 'blue', 'green', 'orange']\nPrintList(colours)",
      "metadata": {
        "trusted": true
      },
      "execution_count": 75,
      "outputs": [
        {
          "name": "stdout",
          "text": "orange\nred\nred\nblue\ngreen\norange\n",
          "output_type": "stream"
        }
      ]
    },
    {
      "cell_type": "markdown",
      "source": "## Setting default argument values in your custom functions\n\n\nYou can set a default value for arguments in your function. \n\nFor example, in the __isGoodRating() function__ we created, what if we wanted to create a threshold for what we consider to be a good rating? \n\nPerhaps by default, we should have a default rating of 4:",
      "metadata": {}
    },
    {
      "cell_type": "code",
      "source": "# Example for setting parameter with default value\n\ndef isGoodRating(rating=4): \n    if(rating < 7):\n        print(\"Poor rating\",rating)\n        \n    else:\n        print(\"Good rating\",rating)",
      "metadata": {
        "trusted": true
      },
      "execution_count": 76,
      "outputs": []
    },
    {
      "cell_type": "code",
      "source": "#Test the value with default value and with inputs\n\n#defaults\nisGoodRating()\n\n#inputs\nisGoodRating(3)\nisGoodRating(7.5)\nisGoodRating(10)",
      "metadata": {
        "trusted": true
      },
      "execution_count": 79,
      "outputs": [
        {
          "name": "stdout",
          "text": "Poor rating 4\nPoor rating 3\nGood rating 7.5\nGood rating 10\n",
          "output_type": "stream"
        }
      ]
    },
    {
      "cell_type": "markdown",
      "source": "## Global variables\n\nSo far, we've been creating variables within functions, but we have not discussed variables outside the function. These are called global variables.\n\nLet's try to see what printer1 returns:",
      "metadata": {}
    },
    {
      "cell_type": "code",
      "source": "# Example of local variable\n\nartist = \"Michael Jackson\"\n#-----------------------------------\ndef printer1(artist):\n    internal_var1 = artist          #inside function area\n    print(artist, \"is an artist\")\n#--------------------------------------    \nprinter1(artist)",
      "metadata": {
        "trusted": true
      },
      "execution_count": 88,
      "outputs": [
        {
          "name": "stdout",
          "text": "Michael Jackson is an artist\n",
          "output_type": "stream"
        }
      ]
    },
    {
      "cell_type": "code",
      "source": "#Test function\nprinter1(internal_var1)",
      "metadata": {
        "trusted": true
      },
      "execution_count": 87,
      "outputs": [
        {
          "ename": "<class 'NameError'>",
          "evalue": "name 'internal_var1' is not defined",
          "traceback": [
            "\u001b[0;31m---------------------------------------------------------------------------\u001b[0m",
            "\u001b[0;31mNameError\u001b[0m                                 Traceback (most recent call last)",
            "Cell \u001b[0;32mIn[87], line 2\u001b[0m\n\u001b[1;32m      1\u001b[0m \u001b[38;5;66;03m#Test function\u001b[39;00m\n\u001b[0;32m----> 2\u001b[0m printer1(\u001b[43minternal_var1\u001b[49m)\n",
            "\u001b[0;31mNameError\u001b[0m: name 'internal_var1' is not defined"
          ],
          "output_type": "error"
        }
      ]
    },
    {
      "cell_type": "markdown",
      "source": "#### We got a Name Error: name 'internal_var' is not defined. Why?\n\nIt's because all the variables we create in the function is a local variable, meaning that the variable assignment does not persist outside the function.\n\nBut there is a way to create global variables from within a function as follows:",
      "metadata": {}
    },
    {
      "cell_type": "code",
      "source": "# Example of global variable inside a function\nartist = \"Michael Jackson\"\n\n#--------------------------------------------\ndef printer(artist):\n    global internal_var \n    internal_var= \"Whitney Houston\"      #inside function area\n    print(artist,\"is an artist\")\n#--------------------------------------------\n\nprinter(artist)",
      "metadata": {
        "trusted": true
      },
      "execution_count": 89,
      "outputs": [
        {
          "name": "stdout",
          "text": "Michael Jackson is an artist\n",
          "output_type": "stream"
        }
      ]
    },
    {
      "cell_type": "code",
      "source": "#Test function\nprinter(internal_var)",
      "metadata": {
        "trusted": true
      },
      "execution_count": 86,
      "outputs": [
        {
          "name": "stdout",
          "text": "Whitney Houston is an artist\n",
          "output_type": "stream"
        }
      ]
    },
    {
      "cell_type": "markdown",
      "source": "### Scope of a Variable\n\nThe scope of a variable is the part of that program where that variable is accessible. \n\nVariables that are declared outside of all function definitions, such as the __myFavouriteBand__ variable in the code shown here, are accessible from anywhere within the program. \n\nAs a result, such variables are said to have global scope, and are known as global variables. \n\nmyFavouriteBand is a global variable, so it is accessible from within the getBandRating function, and we can use it to determine a band's rating. \n\nWe can also use it outside of the function, such as when we pass it to the print function to display it:",
      "metadata": {}
    },
    {
      "cell_type": "code",
      "source": "#Example of global variable\n\nmyFavouriteBand = \"AC/DC\"\n\ndef getBandRating(bandname):\n    if bandname == myFavouriteBand:\n        return 10.0\n    else:\n        return 0.0\n\nprint(\"AC/DC's rating is:\", getBandRating(\"AC/DC\"))\nprint(\"Deep Purple's rating is:\",getBandRating(\"Deep Purple\"))\nprint(\"My favourite band is:\", myFavouriteBand)",
      "metadata": {
        "trusted": true
      },
      "execution_count": 90,
      "outputs": [
        {
          "name": "stdout",
          "text": "AC/DC's rating is: 10.0\nDeep Purple's rating is: 0.0\nMy favourite band is: AC/DC\n",
          "output_type": "stream"
        }
      ]
    },
    {
      "cell_type": "markdown",
      "source": "In the next line of code, __the myFavouriteBand variable is defined within the getBandRating function__. \n\nA variable that is defined within a function is said to be a local variable of that function. \n\nThat means that it is only accessible from within the function in which it is defined. \n\nOur getBandRating function will still work, because myFavouriteBand is still defined within the function. \n\nHowever, we can no longer print myFavouriteBand outside our function, because it is a local variable of our getBandRating function; it is only defined within the getBandRating function:",
      "metadata": {}
    },
    {
      "cell_type": "code",
      "source": "# First we delete the variable \"myFavouriteBand\" from the previous example (where it effect as global variable can still be felt) to demonstrate an example of a local variable \n\ndel myFavouriteBand\n\n# Example of local variable\n\ndef getBandRating(bandname):\n    myFavouriteBand = \"AC/DC\"\n    if bandname == myFavouriteBand:\n        return 10.0\n    else:\n        return 0.0\n\nprint(\"AC/DC's rating is: \", getBandRating(\"AC/DC\"))\nprint(\"Deep Purple's rating is: \", getBandRating(\"Deep Purple\"))\nprint(\"My favourite band is\", myFavouriteBand)",
      "metadata": {
        "trusted": true
      },
      "execution_count": 91,
      "outputs": [
        {
          "name": "stdout",
          "text": "AC/DC's rating is:  10.0\nDeep Purple's rating is:  0.0\n",
          "output_type": "stream"
        },
        {
          "ename": "<class 'NameError'>",
          "evalue": "name 'myFavouriteBand' is not defined",
          "traceback": [
            "\u001b[0;31m---------------------------------------------------------------------------\u001b[0m",
            "\u001b[0;31mNameError\u001b[0m                                 Traceback (most recent call last)",
            "Cell \u001b[0;32mIn[91], line 16\u001b[0m\n\u001b[1;32m     14\u001b[0m \u001b[38;5;28mprint\u001b[39m(\u001b[38;5;124m\"\u001b[39m\u001b[38;5;124mAC/DC\u001b[39m\u001b[38;5;124m'\u001b[39m\u001b[38;5;124ms rating is: \u001b[39m\u001b[38;5;124m\"\u001b[39m, getBandRating(\u001b[38;5;124m\"\u001b[39m\u001b[38;5;124mAC/DC\u001b[39m\u001b[38;5;124m\"\u001b[39m))\n\u001b[1;32m     15\u001b[0m \u001b[38;5;28mprint\u001b[39m(\u001b[38;5;124m\"\u001b[39m\u001b[38;5;124mDeep Purple\u001b[39m\u001b[38;5;124m'\u001b[39m\u001b[38;5;124ms rating is: \u001b[39m\u001b[38;5;124m\"\u001b[39m, getBandRating(\u001b[38;5;124m\"\u001b[39m\u001b[38;5;124mDeep Purple\u001b[39m\u001b[38;5;124m\"\u001b[39m))\n\u001b[0;32m---> 16\u001b[0m \u001b[38;5;28mprint\u001b[39m(\u001b[38;5;124m\"\u001b[39m\u001b[38;5;124mMy favourite band is\u001b[39m\u001b[38;5;124m\"\u001b[39m, \u001b[43mmyFavouriteBand\u001b[49m)\n",
            "\u001b[0;31mNameError\u001b[0m: name 'myFavouriteBand' is not defined"
          ],
          "output_type": "error"
        }
      ]
    },
    {
      "cell_type": "markdown",
      "source": "This returns an error as the myfavorite band variable is only defined within the function.",
      "metadata": {}
    },
    {
      "cell_type": "markdown",
      "source": "#### Finally, take a look at this example. \n\n__We now have two myFavouriteBand variable definitions.__ \n\nThe first one of these has a global scope, and the second of them is a local variable within the getBandRating function. \n\nWithin the getBandRating function, the local variable takes precedence. \n\nDeep Purple will receive a rating of 10.0 when passed to the getBandRating function. \n\nHowever, outside of the getBandRating function, the getBandRating's local variable is not defined, so the myFavouriteBand variable we print is the global variable, which has a value of AC/DC:",
      "metadata": {}
    },
    {
      "cell_type": "code",
      "source": "#Example of global variable and local variable with the same name\n\nmyFavouriteBand = \"AC/DC\"              #global variable\n\n#__________________________________________\ndef getBandRating(bandname):\n    myFavouriteBand = \"Deep Purple\"    #local variable\n    if bandname == myFavouriteBand:       \n        return 10.0\n    else:\n        return 0.0\n#__________________________________________\n\nprint(\"AC/DC's rating is:\",getBandRating(\"AC/DC\"))\nprint(\"Deep Purple's rating is: \",getBandRating(\"Deep Purple\"))\nprint(\"My favourite band is:\",myFavouriteBand)",
      "metadata": {
        "trusted": true
      },
      "execution_count": 94,
      "outputs": [
        {
          "name": "stdout",
          "text": "AC/DC's rating is: 0.0\nDeep Purple's rating is:  10.0\nMy favourite band is: AC/DC\n",
          "output_type": "stream"
        }
      ]
    },
    {
      "cell_type": "markdown",
      "source": "__So although Deep Purple has a rating of 10, and the local variable stipulates that favorite band is Deep Purple, when printing outside the function the global variable takes prescedent which in this block of code is \"AC/DC\" even if it has a rating of 0.__",
      "metadata": {}
    },
    {
      "cell_type": "code",
      "source": "",
      "metadata": {},
      "execution_count": null,
      "outputs": []
    },
    {
      "cell_type": "markdown",
      "source": "### Collections and Functions\nWhen the number of arguments are unknown for a function, They can all be packed into a tuple as shown:",
      "metadata": {}
    },
    {
      "cell_type": "code",
      "source": "#*arg shows argument is being packed into a tuple\n\ndef printAll(*args): # All the arguments are 'packed' into args which can be treated like a tuple\n    \n    print(\"No of arguments:\", len(args)) \n    for argument in args:\n        print(argument)",
      "metadata": {
        "trusted": true
      },
      "execution_count": 114,
      "outputs": []
    },
    {
      "cell_type": "code",
      "source": "#Call function\n\n#printAll with 3 arguments\nprintAll('Horsefeather','Adonis','Bone')",
      "metadata": {
        "trusted": true
      },
      "execution_count": 97,
      "outputs": [
        {
          "name": "stdout",
          "text": "No of arguments: 3\nHorsefeather\nAdonis\nBone\n",
          "output_type": "stream"
        }
      ]
    },
    {
      "cell_type": "code",
      "source": "#Call function\n\n#printAll with 4 arguments\nprintAll('Sidecar','Long Island','Mudslide','Carriage')",
      "metadata": {
        "trusted": true
      },
      "execution_count": 98,
      "outputs": [
        {
          "name": "stdout",
          "text": "No of arguments: 4\nSidecar\nLong Island\nMudslide\nCarriage\n",
          "output_type": "stream"
        }
      ]
    },
    {
      "cell_type": "markdown",
      "source": "#### Similarly, The arguments can also be packed into a dictionary as shown:",
      "metadata": {}
    },
    {
      "cell_type": "code",
      "source": "#** shows arg is being packed into a dictionary\ndef printDictionary(**args):\n    for key in args:\n        print(key + \" : \" + args[key])\n\nprintDictionary(Country='Canada',Province='Ontario',City='Toronto')",
      "metadata": {
        "trusted": true
      },
      "execution_count": 112,
      "outputs": [
        {
          "name": "stdout",
          "text": "Country : Canada\nProvince : Ontario\nCity : Toronto\n",
          "output_type": "stream"
        }
      ]
    },
    {
      "cell_type": "code",
      "source": "printDictionary(Country='Turkey',Province='Istanbul',City='Kartal')",
      "metadata": {
        "trusted": true
      },
      "execution_count": 103,
      "outputs": [
        {
          "name": "stdout",
          "text": "Country : Turkey\nProvince : Istanbul\nCity : Kartal\n",
          "output_type": "stream"
        }
      ]
    },
    {
      "cell_type": "markdown",
      "source": "##### Self Created",
      "metadata": {}
    },
    {
      "cell_type": "code",
      "source": "def printpackedARG(**args):\n    for i in args:\n        print(i + \" : \" + args[i])",
      "metadata": {
        "trusted": true
      },
      "execution_count": 111,
      "outputs": []
    },
    {
      "cell_type": "code",
      "source": "printpackedARG(Name='Nicholas', Age='33', Education = 'Masters', City='Istanbul')",
      "metadata": {
        "trusted": true
      },
      "execution_count": 109,
      "outputs": [
        {
          "name": "stdout",
          "text": "Name : Nicholas\nAge : 33\nEducation : Masters\nCity : Istanbul\n",
          "output_type": "stream"
        }
      ]
    },
    {
      "cell_type": "markdown",
      "source": "Functions can be incredibly powerful and versatile. They can accept (and return) data types, objects and even other functions as arguments. Consider the example below:",
      "metadata": {}
    },
    {
      "cell_type": "code",
      "source": "def addItems(list):\n    list.append(\"Three\")\n    list.append(\"Four\")",
      "metadata": {
        "trusted": true
      },
      "execution_count": 101,
      "outputs": []
    },
    {
      "cell_type": "code",
      "source": "#call function\n\nmyList = [\"One\",\"Two\"]\n\naddItems(myList)\n\nmyList",
      "metadata": {
        "trusted": true
      },
      "execution_count": 102,
      "outputs": [
        {
          "execution_count": 102,
          "output_type": "execute_result",
          "data": {
            "text/plain": "['One', 'Two', 'Three', 'Four']"
          },
          "metadata": {}
        }
      ]
    },
    {
      "cell_type": "markdown",
      "source": "### One should be cautious when passing mutable objects into functions.",
      "metadata": {}
    },
    {
      "cell_type": "markdown",
      "source": "Changes made to the list are not limited to the function's scope. This occurs as it is the list's reference that is passed to the function - Any changes made are on the original instance of the list. If the original list changes...the list passed into the function also changes.",
      "metadata": {}
    },
    {
      "cell_type": "markdown",
      "source": "### Quiz on Functions",
      "metadata": {}
    },
    {
      "cell_type": "markdown",
      "source": "Come up with a function that divides the first input by the second input:",
      "metadata": {}
    },
    {
      "cell_type": "code",
      "source": "def div(a,b):\n    c=a/b\n    print('You have divided', a, 'by', b, 'and returned', c)\n    return(c)",
      "metadata": {
        "trusted": true
      },
      "execution_count": 120,
      "outputs": []
    },
    {
      "cell_type": "code",
      "source": "#Test function div\ndiv(10,2)",
      "metadata": {
        "trusted": true
      },
      "execution_count": 121,
      "outputs": [
        {
          "name": "stdout",
          "text": "You have divided 10 by 2 and returned 5.0\n",
          "output_type": "stream"
        },
        {
          "execution_count": 121,
          "output_type": "execute_result",
          "data": {
            "text/plain": "5.0"
          },
          "metadata": {}
        }
      ]
    },
    {
      "cell_type": "code",
      "source": "#Test function div\ndiv(535,10)",
      "metadata": {
        "trusted": true
      },
      "execution_count": 122,
      "outputs": [
        {
          "name": "stdout",
          "text": "You have divided 535 by 10 and returned 53.5\n",
          "output_type": "stream"
        },
        {
          "execution_count": 122,
          "output_type": "execute_result",
          "data": {
            "text/plain": "53.5"
          },
          "metadata": {}
        }
      ]
    },
    {
      "cell_type": "markdown",
      "source": "Use the function con for the following question.",
      "metadata": {}
    },
    {
      "cell_type": "code",
      "source": "# Use the con function for the following question\n\ndef con(a, b):\n    return(a + b)",
      "metadata": {
        "trusted": true
      },
      "execution_count": 123,
      "outputs": []
    },
    {
      "cell_type": "markdown",
      "source": "Can the con function we defined before be used to add two integers or strings?",
      "metadata": {}
    },
    {
      "cell_type": "code",
      "source": "#integer\ncon(3,2)",
      "metadata": {
        "trusted": true
      },
      "execution_count": 125,
      "outputs": [
        {
          "execution_count": 125,
          "output_type": "execute_result",
          "data": {
            "text/plain": "5"
          },
          "metadata": {}
        }
      ]
    },
    {
      "cell_type": "code",
      "source": "#string\ncon('Lagos',' Island')",
      "metadata": {
        "trusted": true
      },
      "execution_count": 127,
      "outputs": [
        {
          "execution_count": 127,
          "output_type": "execute_result",
          "data": {
            "text/plain": "'Lagos Island'"
          },
          "metadata": {}
        }
      ]
    },
    {
      "cell_type": "markdown",
      "source": "Can the con function we defined before be used to concatenate lists or tuples?",
      "metadata": {}
    },
    {
      "cell_type": "code",
      "source": "cc=(1,23.7,'10kg','fat')\ndd=['Mathew', '1990', 'London']\nee=('Paul', '1989', 'Lagos')\nff=[2,30.1,'23kg', 'muscled']",
      "metadata": {
        "trusted": true
      },
      "execution_count": 129,
      "outputs": []
    },
    {
      "cell_type": "code",
      "source": "#concatenate tuple to list\ncon(cc,dd)",
      "metadata": {
        "trusted": true
      },
      "execution_count": 130,
      "outputs": [
        {
          "ename": "<class 'TypeError'>",
          "evalue": "can only concatenate tuple (not \"list\") to tuple",
          "traceback": [
            "\u001b[0;31m---------------------------------------------------------------------------\u001b[0m",
            "\u001b[0;31mTypeError\u001b[0m                                 Traceback (most recent call last)",
            "Cell \u001b[0;32mIn[130], line 2\u001b[0m\n\u001b[1;32m      1\u001b[0m \u001b[38;5;66;03m#concatenate tuple to list\u001b[39;00m\n\u001b[0;32m----> 2\u001b[0m \u001b[43mcon\u001b[49m\u001b[43m(\u001b[49m\u001b[43mcc\u001b[49m\u001b[43m,\u001b[49m\u001b[43mdd\u001b[49m\u001b[43m)\u001b[49m\n",
            "Cell \u001b[0;32mIn[123], line 4\u001b[0m, in \u001b[0;36mcon\u001b[0;34m(a, b)\u001b[0m\n\u001b[1;32m      3\u001b[0m \u001b[38;5;28;01mdef\u001b[39;00m \u001b[38;5;21mcon\u001b[39m(a, b):\n\u001b[0;32m----> 4\u001b[0m     \u001b[38;5;28;01mreturn\u001b[39;00m(\u001b[43ma\u001b[49m\u001b[43m \u001b[49m\u001b[38;5;241;43m+\u001b[39;49m\u001b[43m \u001b[49m\u001b[43mb\u001b[49m)\n",
            "\u001b[0;31mTypeError\u001b[0m: can only concatenate tuple (not \"list\") to tuple"
          ],
          "output_type": "error"
        }
      ]
    },
    {
      "cell_type": "code",
      "source": "#concatenate tuple to tuple\ncon(cc,ee)",
      "metadata": {
        "trusted": true
      },
      "execution_count": 132,
      "outputs": [
        {
          "execution_count": 132,
          "output_type": "execute_result",
          "data": {
            "text/plain": "(1, 23.7, '10kg', 'fat', 'Paul', '1989', 'Lagos')"
          },
          "metadata": {}
        }
      ]
    },
    {
      "cell_type": "code",
      "source": "#concatenate list to list\ncon(ff,dd)",
      "metadata": {
        "trusted": true
      },
      "execution_count": 134,
      "outputs": [
        {
          "execution_count": 134,
          "output_type": "execute_result",
          "data": {
            "text/plain": "[2, 30.1, '23kg', 'muscled', 'Mathew', '1990', 'London']"
          },
          "metadata": {}
        }
      ]
    },
    {
      "cell_type": "code",
      "source": "#concatenate list to tuple\ncon(dd,ee)",
      "metadata": {
        "trusted": true
      },
      "execution_count": 135,
      "outputs": [
        {
          "ename": "<class 'TypeError'>",
          "evalue": "can only concatenate list (not \"tuple\") to list",
          "traceback": [
            "\u001b[0;31m---------------------------------------------------------------------------\u001b[0m",
            "\u001b[0;31mTypeError\u001b[0m                                 Traceback (most recent call last)",
            "Cell \u001b[0;32mIn[135], line 2\u001b[0m\n\u001b[1;32m      1\u001b[0m \u001b[38;5;66;03m#concatenate list to tuple\u001b[39;00m\n\u001b[0;32m----> 2\u001b[0m \u001b[43mcon\u001b[49m\u001b[43m(\u001b[49m\u001b[43mdd\u001b[49m\u001b[43m,\u001b[49m\u001b[43mee\u001b[49m\u001b[43m)\u001b[49m\n",
            "Cell \u001b[0;32mIn[123], line 4\u001b[0m, in \u001b[0;36mcon\u001b[0;34m(a, b)\u001b[0m\n\u001b[1;32m      3\u001b[0m \u001b[38;5;28;01mdef\u001b[39;00m \u001b[38;5;21mcon\u001b[39m(a, b):\n\u001b[0;32m----> 4\u001b[0m     \u001b[38;5;28;01mreturn\u001b[39;00m(\u001b[43ma\u001b[49m\u001b[43m \u001b[49m\u001b[38;5;241;43m+\u001b[39;49m\u001b[43m \u001b[49m\u001b[43mb\u001b[49m)\n",
            "\u001b[0;31mTypeError\u001b[0m: can only concatenate list (not \"tuple\") to list"
          ],
          "output_type": "error"
        }
      ]
    },
    {
      "cell_type": "code",
      "source": "",
      "metadata": {},
      "execution_count": null,
      "outputs": []
    }
  ]
}